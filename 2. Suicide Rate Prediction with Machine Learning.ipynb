{
  "nbformat": 4,
  "nbformat_minor": 0,
  "metadata": {
    "kernelspec": {
      "display_name": "Python 3",
      "language": "python",
      "name": "python3"
    },
    "language_info": {
      "codemirror_mode": {
        "name": "ipython",
        "version": 3
      },
      "file_extension": ".py",
      "mimetype": "text/x-python",
      "name": "python",
      "nbconvert_exporter": "python",
      "pygments_lexer": "ipython3",
      "version": "3.7.6"
    },
    "colab": {
      "name": "Suicide Rate Prediction.ipynb",
      "provenance": [],
      "collapsed_sections": [],
      "toc_visible": true
    }
  },
  "cells": [
    {
      "cell_type": "markdown",
      "metadata": {
        "id": "8nSuTBKsJraZ",
        "colab_type": "text"
      },
      "source": [
        "# **Suicide Rate Prediction with Machine Learning:**\n",
        "\n",
        "*Final Project of the Machine LEarning & Data Analysis Course*"
      ]
    },
    {
      "cell_type": "markdown",
      "metadata": {
        "id": "UsdhTvYGJrab",
        "colab_type": "text"
      },
      "source": [
        "&nbsp;&nbsp;&nbsp;&nbsp;&nbsp;&nbsp;&nbsp;&nbsp;&nbsp;&nbsp;&nbsp;&nbsp;Suicide is a serious public health problem. The World Health Organization (WHO) estimates that every year close to 800 000 people take their own life, which is one person every 40 seconds and there are many more people who attempt suicide. Suicide occurs throughout the lifespan and was the second leading cause of death among 15-29-year-olds globally in 2016.\n",
        "\n",
        "&nbsp;&nbsp;&nbsp;&nbsp;&nbsp;&nbsp;&nbsp;&nbsp;&nbsp;&nbsp;&nbsp;&nbsp;The objective of this notebook is to predict the suicide rates using Machine Learning algorithms and analyzing them to find correlated factors causing increase in suicide rates globally. \n",
        "\n",
        "The steps demonstrated in this notebook are: \n",
        "1. Loading the data\n",
        "2.Familiarizing with data\n",
        "3. Visualizing the data\n",
        "4. Data Preprocessing & EDA\n",
        "5. Splitting the data\n",
        "6. Training the data\n",
        "7. Model Performance Comparision\n",
        "8. Statistical Tests\n",
        "9. Conclusion\n",
        "\n"
      ]
    },
    {
      "cell_type": "code",
      "metadata": {
        "id": "rQta1dx2Jrad",
        "colab_type": "code",
        "outputId": "2d8108d0-7c3e-4367-f5f1-d1e5916312e0",
        "colab": {
          "base_uri": "https://localhost:8080/",
          "height": 72
        }
      },
      "source": [
        "#importing required libraries\n",
        "\n",
        "import pandas as pd\n",
        "import numpy as np\n",
        "from pandas.plotting import scatter_matrix\n",
        "import matplotlib.pyplot as plt\n",
        "import seaborn as sns\n",
        "import sklearn"
      ],
      "execution_count": 0,
      "outputs": [
        {
          "output_type": "stream",
          "text": [
            "/usr/local/lib/python3.6/dist-packages/statsmodels/tools/_testing.py:19: FutureWarning: pandas.util.testing is deprecated. Use the functions in the public API at pandas.testing instead.\n",
            "  import pandas.util.testing as tm\n"
          ],
          "name": "stderr"
        }
      ]
    },
    {
      "cell_type": "markdown",
      "metadata": {
        "id": "bDmOaIAyJrak",
        "colab_type": "text"
      },
      "source": [
        "## **1. Loading Data:**\n",
        "\n",
        "&nbsp;&nbsp;&nbsp;&nbsp;&nbsp;&nbsp;&nbsp;&nbsp;&nbsp;&nbsp;&nbsp;&nbsp;The dataset is borrowed from Kaggle, https://www.kaggle.com/russellyates88/suicide-rates-overview-1985-to-2016. This is a compiled dataset pulled from four other datasets linked by time and place from year 1985 to 2016. The source of those datasets is WHO, World Bank, UNDP and a dataset published in Kaggle. \n",
        "\n",
        "&nbsp;&nbsp;&nbsp;&nbsp;&nbsp;&nbsp;&nbsp;&nbsp;&nbsp;&nbsp;&nbsp;&nbsp;The overview of this dataset is, it has 27820 samples with 12 features. Download the dataset from the link provided.\n"
      ]
    },
    {
      "cell_type": "code",
      "metadata": {
        "id": "vO-gPhOxJral",
        "colab_type": "code",
        "outputId": "321670cf-d649-4a9c-fe2c-af58f5227989",
        "colab": {
          "base_uri": "https://localhost:8080/",
          "height": 194
        }
      },
      "source": [
        "#Loading data into dataframe\n",
        "\n",
        "data = pd.read_csv(\"suicide_data.csv\")\n",
        "data.head()"
      ],
      "execution_count": 0,
      "outputs": [
        {
          "output_type": "execute_result",
          "data": {
            "text/html": [
              "<div>\n",
              "<style scoped>\n",
              "    .dataframe tbody tr th:only-of-type {\n",
              "        vertical-align: middle;\n",
              "    }\n",
              "\n",
              "    .dataframe tbody tr th {\n",
              "        vertical-align: top;\n",
              "    }\n",
              "\n",
              "    .dataframe thead th {\n",
              "        text-align: right;\n",
              "    }\n",
              "</style>\n",
              "<table border=\"1\" class=\"dataframe\">\n",
              "  <thead>\n",
              "    <tr style=\"text-align: right;\">\n",
              "      <th></th>\n",
              "      <th>country</th>\n",
              "      <th>year</th>\n",
              "      <th>sex</th>\n",
              "      <th>age</th>\n",
              "      <th>suicides_no</th>\n",
              "      <th>population</th>\n",
              "      <th>suicides/100k pop</th>\n",
              "      <th>country-year</th>\n",
              "      <th>HDI for year</th>\n",
              "      <th>gdp_for_year ($)</th>\n",
              "      <th>gdp_per_capita ($)</th>\n",
              "      <th>generation</th>\n",
              "    </tr>\n",
              "  </thead>\n",
              "  <tbody>\n",
              "    <tr>\n",
              "      <th>0</th>\n",
              "      <td>Albania</td>\n",
              "      <td>1987</td>\n",
              "      <td>male</td>\n",
              "      <td>15-24 years</td>\n",
              "      <td>21</td>\n",
              "      <td>312900</td>\n",
              "      <td>6.71</td>\n",
              "      <td>Albania1987</td>\n",
              "      <td>NaN</td>\n",
              "      <td>2,156,624,900</td>\n",
              "      <td>796</td>\n",
              "      <td>Generation X</td>\n",
              "    </tr>\n",
              "    <tr>\n",
              "      <th>1</th>\n",
              "      <td>Albania</td>\n",
              "      <td>1987</td>\n",
              "      <td>male</td>\n",
              "      <td>35-54 years</td>\n",
              "      <td>16</td>\n",
              "      <td>308000</td>\n",
              "      <td>5.19</td>\n",
              "      <td>Albania1987</td>\n",
              "      <td>NaN</td>\n",
              "      <td>2,156,624,900</td>\n",
              "      <td>796</td>\n",
              "      <td>Silent</td>\n",
              "    </tr>\n",
              "    <tr>\n",
              "      <th>2</th>\n",
              "      <td>Albania</td>\n",
              "      <td>1987</td>\n",
              "      <td>female</td>\n",
              "      <td>15-24 years</td>\n",
              "      <td>14</td>\n",
              "      <td>289700</td>\n",
              "      <td>4.83</td>\n",
              "      <td>Albania1987</td>\n",
              "      <td>NaN</td>\n",
              "      <td>2,156,624,900</td>\n",
              "      <td>796</td>\n",
              "      <td>Generation X</td>\n",
              "    </tr>\n",
              "    <tr>\n",
              "      <th>3</th>\n",
              "      <td>Albania</td>\n",
              "      <td>1987</td>\n",
              "      <td>male</td>\n",
              "      <td>75+ years</td>\n",
              "      <td>1</td>\n",
              "      <td>21800</td>\n",
              "      <td>4.59</td>\n",
              "      <td>Albania1987</td>\n",
              "      <td>NaN</td>\n",
              "      <td>2,156,624,900</td>\n",
              "      <td>796</td>\n",
              "      <td>G.I. Generation</td>\n",
              "    </tr>\n",
              "    <tr>\n",
              "      <th>4</th>\n",
              "      <td>Albania</td>\n",
              "      <td>1987</td>\n",
              "      <td>male</td>\n",
              "      <td>25-34 years</td>\n",
              "      <td>9</td>\n",
              "      <td>274300</td>\n",
              "      <td>3.28</td>\n",
              "      <td>Albania1987</td>\n",
              "      <td>NaN</td>\n",
              "      <td>2,156,624,900</td>\n",
              "      <td>796</td>\n",
              "      <td>Boomers</td>\n",
              "    </tr>\n",
              "  </tbody>\n",
              "</table>\n",
              "</div>"
            ],
            "text/plain": [
              "   country  year  ... gdp_per_capita ($)       generation\n",
              "0  Albania  1987  ...                796     Generation X\n",
              "1  Albania  1987  ...                796           Silent\n",
              "2  Albania  1987  ...                796     Generation X\n",
              "3  Albania  1987  ...                796  G.I. Generation\n",
              "4  Albania  1987  ...                796          Boomers\n",
              "\n",
              "[5 rows x 12 columns]"
            ]
          },
          "metadata": {
            "tags": []
          },
          "execution_count": 2
        }
      ]
    },
    {
      "cell_type": "markdown",
      "metadata": {
        "id": "a97t_Zq8Jras",
        "colab_type": "text"
      },
      "source": [
        "## **2. Familiarizing with Data:**\n",
        "\n",
        "In this step, few dataframe methods are used to look into the data and its features."
      ]
    },
    {
      "cell_type": "code",
      "metadata": {
        "id": "WB_voVuuJras",
        "colab_type": "code",
        "outputId": "4d3902ca-c530-4b3f-e1ac-e4831745bdce",
        "colab": {
          "base_uri": "https://localhost:8080/",
          "height": 35
        }
      },
      "source": [
        "#Shape of dataframe\n",
        "\n",
        "data.shape"
      ],
      "execution_count": 0,
      "outputs": [
        {
          "output_type": "execute_result",
          "data": {
            "text/plain": [
              "(27820, 12)"
            ]
          },
          "metadata": {
            "tags": []
          },
          "execution_count": 3
        }
      ]
    },
    {
      "cell_type": "code",
      "metadata": {
        "scrolled": true,
        "id": "6eHW6CqwJrax",
        "colab_type": "code",
        "outputId": "ab2d08cf-6d97-47b5-ebc6-63c83a976b07",
        "colab": {
          "base_uri": "https://localhost:8080/",
          "height": 88
        }
      },
      "source": [
        "#Listing the features of the dataset\n",
        "\n",
        "data.columns"
      ],
      "execution_count": 0,
      "outputs": [
        {
          "output_type": "execute_result",
          "data": {
            "text/plain": [
              "Index(['country', 'year', 'sex', 'age', 'suicides_no', 'population',\n",
              "       'suicides/100k pop', 'country-year', 'HDI for year',\n",
              "       ' gdp_for_year ($) ', 'gdp_per_capita ($)', 'generation'],\n",
              "      dtype='object')"
            ]
          },
          "metadata": {
            "tags": []
          },
          "execution_count": 4
        }
      ]
    },
    {
      "cell_type": "code",
      "metadata": {
        "id": "Tcu07Vw-s_Ur",
        "colab_type": "code",
        "outputId": "368a53b9-2215-48f9-ba7b-a3e4e1b9e0af",
        "colab": {
          "base_uri": "https://localhost:8080/",
          "height": 88
        }
      },
      "source": [
        "#Renaming the columns names for convinience\n",
        "\n",
        "data.columns = ['country', 'year', 'gender', 'age_group', 'suicide_count', 'population', 'suicide_rate', 'country-year', 'HDI for year',\n",
        "                'gdp_for_year', 'gdp_per_capita', 'generation']\n",
        "data.columns"
      ],
      "execution_count": 0,
      "outputs": [
        {
          "output_type": "execute_result",
          "data": {
            "text/plain": [
              "Index(['country', 'year', 'gender', 'age_group', 'suicide_count', 'population',\n",
              "       'suicide_rate', 'country-year', 'HDI for year', 'gdp_for_year',\n",
              "       'gdp_per_capita', 'generation'],\n",
              "      dtype='object')"
            ]
          },
          "metadata": {
            "tags": []
          },
          "execution_count": 5
        }
      ]
    },
    {
      "cell_type": "code",
      "metadata": {
        "id": "J9NJm_cMJra1",
        "colab_type": "code",
        "outputId": "edc23f89-038e-47e0-f2df-bd1b0f10dd13",
        "colab": {
          "base_uri": "https://localhost:8080/",
          "height": 88
        }
      },
      "source": [
        "#Renaming the columns names for convinience\n",
        "\n",
        "data.columns = ['country', 'year', 'gender', 'age_group', 'suicide_count', \n",
        "                'population', 'suicide_rate', 'country-year', 'HDI for year',\n",
        "                'gdp_for_year', 'gdp_per_capita', 'generation']\n",
        "data.columns"
      ],
      "execution_count": 0,
      "outputs": [
        {
          "output_type": "execute_result",
          "data": {
            "text/plain": [
              "Index(['country', 'year', 'gender', 'age_group', 'suicide_count', 'population',\n",
              "       'suicide_rate', 'country-year', 'HDI for year', 'gdp_for_year',\n",
              "       'gdp_per_capita', 'generation'],\n",
              "      dtype='object')"
            ]
          },
          "metadata": {
            "tags": []
          },
          "execution_count": 6
        }
      ]
    },
    {
      "cell_type": "code",
      "metadata": {
        "id": "UxqRUpRBJra5",
        "colab_type": "code",
        "outputId": "41514286-88ef-4224-b5d2-e27526ded050",
        "colab": {
          "base_uri": "https://localhost:8080/",
          "height": 355
        }
      },
      "source": [
        "#Information about the dataset\n",
        "\n",
        "data.info()"
      ],
      "execution_count": 0,
      "outputs": [
        {
          "output_type": "stream",
          "text": [
            "<class 'pandas.core.frame.DataFrame'>\n",
            "RangeIndex: 27820 entries, 0 to 27819\n",
            "Data columns (total 12 columns):\n",
            " #   Column          Non-Null Count  Dtype  \n",
            "---  ------          --------------  -----  \n",
            " 0   country         27820 non-null  object \n",
            " 1   year            27820 non-null  int64  \n",
            " 2   gender          27820 non-null  object \n",
            " 3   age_group       27820 non-null  object \n",
            " 4   suicide_count   27820 non-null  int64  \n",
            " 5   population      27820 non-null  int64  \n",
            " 6   suicide_rate    27820 non-null  float64\n",
            " 7   country-year    27820 non-null  object \n",
            " 8   HDI for year    8364 non-null   float64\n",
            " 9   gdp_for_year    27820 non-null  object \n",
            " 10  gdp_per_capita  27820 non-null  int64  \n",
            " 11  generation      27820 non-null  object \n",
            "dtypes: float64(2), int64(4), object(6)\n",
            "memory usage: 2.5+ MB\n"
          ],
          "name": "stdout"
        }
      ]
    },
    {
      "cell_type": "code",
      "metadata": {
        "scrolled": false,
        "id": "5pVv0ydpJra-",
        "colab_type": "code",
        "outputId": "e395f777-c883-4cc5-cf65-1306ebf63220",
        "colab": {
          "base_uri": "https://localhost:8080/",
          "height": 141
        }
      },
      "source": [
        "data.age_group.value_counts()"
      ],
      "execution_count": 0,
      "outputs": [
        {
          "output_type": "execute_result",
          "data": {
            "text/plain": [
              "15-24 years    4642\n",
              "25-34 years    4642\n",
              "75+ years      4642\n",
              "55-74 years    4642\n",
              "35-54 years    4642\n",
              "5-14 years     4610\n",
              "Name: age_group, dtype: int64"
            ]
          },
          "metadata": {
            "tags": []
          },
          "execution_count": 8
        }
      ]
    },
    {
      "cell_type": "code",
      "metadata": {
        "id": "Pm4TWFvMJrbC",
        "colab_type": "code",
        "outputId": "aab2682c-dcfa-4b2f-d6b2-4247f52de843",
        "colab": {
          "base_uri": "https://localhost:8080/",
          "height": 141
        }
      },
      "source": [
        "data.generation.value_counts()"
      ],
      "execution_count": 0,
      "outputs": [
        {
          "output_type": "execute_result",
          "data": {
            "text/plain": [
              "Generation X       6408\n",
              "Silent             6364\n",
              "Millenials         5844\n",
              "Boomers            4990\n",
              "G.I. Generation    2744\n",
              "Generation Z       1470\n",
              "Name: generation, dtype: int64"
            ]
          },
          "metadata": {
            "tags": []
          },
          "execution_count": 9
        }
      ]
    },
    {
      "cell_type": "markdown",
      "metadata": {
        "id": "XZu-bxGsJrbF",
        "colab_type": "text"
      },
      "source": [
        "### **Observations:**\n",
        "* `HDI for year` column has missing values. None of the other columns have any missing values. So considering to remove HDI from the dataset. \n",
        "* The age feature has 6 unique age groups\n",
        "* `Age` is grouped into year buckets as categorical format which needs to be encoded.\n",
        "* `Gender` should be encoded.\n",
        "* Scale required numerical features.\n",
        "* The generation feature has 6 types of generations.\n",
        "* `Generation` could be encoded as well."
      ]
    },
    {
      "cell_type": "markdown",
      "metadata": {
        "id": "GMZie84BJrbG",
        "colab_type": "text"
      },
      "source": [
        "#### Let's see how many countries are avaialble in the dataset:"
      ]
    },
    {
      "cell_type": "code",
      "metadata": {
        "id": "oyXsHMrzJrbH",
        "colab_type": "code",
        "outputId": "2d1ec73e-aabb-455b-81ec-e607b2e7728f",
        "colab": {
          "base_uri": "https://localhost:8080/",
          "height": 426
        }
      },
      "source": [
        "#Listing countries\n",
        "\n",
        "country = data.country.unique()\n",
        "print(\"Number of countries:\", len(country))\n",
        "country"
      ],
      "execution_count": 0,
      "outputs": [
        {
          "output_type": "stream",
          "text": [
            "Number of countries: 101\n"
          ],
          "name": "stdout"
        },
        {
          "output_type": "execute_result",
          "data": {
            "text/plain": [
              "array(['Albania', 'Antigua and Barbuda', 'Argentina', 'Armenia', 'Aruba',\n",
              "       'Australia', 'Austria', 'Azerbaijan', 'Bahamas', 'Bahrain',\n",
              "       'Barbados', 'Belarus', 'Belgium', 'Belize',\n",
              "       'Bosnia and Herzegovina', 'Brazil', 'Bulgaria', 'Cabo Verde',\n",
              "       'Canada', 'Chile', 'Colombia', 'Costa Rica', 'Croatia', 'Cuba',\n",
              "       'Cyprus', 'Czech Republic', 'Denmark', 'Dominica', 'Ecuador',\n",
              "       'El Salvador', 'Estonia', 'Fiji', 'Finland', 'France', 'Georgia',\n",
              "       'Germany', 'Greece', 'Grenada', 'Guatemala', 'Guyana', 'Hungary',\n",
              "       'Iceland', 'Ireland', 'Israel', 'Italy', 'Jamaica', 'Japan',\n",
              "       'Kazakhstan', 'Kiribati', 'Kuwait', 'Kyrgyzstan', 'Latvia',\n",
              "       'Lithuania', 'Luxembourg', 'Macau', 'Maldives', 'Malta',\n",
              "       'Mauritius', 'Mexico', 'Mongolia', 'Montenegro', 'Netherlands',\n",
              "       'New Zealand', 'Nicaragua', 'Norway', 'Oman', 'Panama', 'Paraguay',\n",
              "       'Philippines', 'Poland', 'Portugal', 'Puerto Rico', 'Qatar',\n",
              "       'Republic of Korea', 'Romania', 'Russian Federation',\n",
              "       'Saint Kitts and Nevis', 'Saint Lucia',\n",
              "       'Saint Vincent and Grenadines', 'San Marino', 'Serbia',\n",
              "       'Seychelles', 'Singapore', 'Slovakia', 'Slovenia', 'South Africa',\n",
              "       'Spain', 'Sri Lanka', 'Suriname', 'Sweden', 'Switzerland',\n",
              "       'Thailand', 'Trinidad and Tobago', 'Turkey', 'Turkmenistan',\n",
              "       'Ukraine', 'United Arab Emirates', 'United Kingdom',\n",
              "       'United States', 'Uruguay', 'Uzbekistan'], dtype=object)"
            ]
          },
          "metadata": {
            "tags": []
          },
          "execution_count": 10
        }
      ]
    },
    {
      "cell_type": "markdown",
      "metadata": {
        "id": "aTAJqTWeJrbN",
        "colab_type": "text"
      },
      "source": [
        "## **3. Visualizing the data:**\n",
        "\n",
        "Few plots and graphs are displayed to find how the data is distributed and the how features are related to each other."
      ]
    },
    {
      "cell_type": "code",
      "metadata": {
        "id": "oPy-YPrSJrbO",
        "colab_type": "code",
        "outputId": "59c7bebb-dfe7-462b-a5b5-ebac61591d8a",
        "colab": {
          "base_uri": "https://localhost:8080/",
          "height": 787
        }
      },
      "source": [
        "data.hist(bins = 50,figsize = (15,11))"
      ],
      "execution_count": 0,
      "outputs": [
        {
          "output_type": "execute_result",
          "data": {
            "text/plain": [
              "array([[<matplotlib.axes._subplots.AxesSubplot object at 0x7ff69cbed748>,\n",
              "        <matplotlib.axes._subplots.AxesSubplot object at 0x7ff69cb419e8>],\n",
              "       [<matplotlib.axes._subplots.AxesSubplot object at 0x7ff69caf7c50>,\n",
              "        <matplotlib.axes._subplots.AxesSubplot object at 0x7ff69cb2deb8>],\n",
              "       [<matplotlib.axes._subplots.AxesSubplot object at 0x7ff69cac57f0>,\n",
              "        <matplotlib.axes._subplots.AxesSubplot object at 0x7ff69ca96a58>]],\n",
              "      dtype=object)"
            ]
          },
          "metadata": {
            "tags": []
          },
          "execution_count": 11
        },
        {
          "output_type": "display_data",
          "data": {
            "image/png": "[encoded data removed]",
            "text/plain": [
              "<Figure size 1080x792 with 6 Axes>"
            ]
          },
          "metadata": {
            "tags": [],
            "needs_background": "light"
          }
        }
      ]
    },
    {
      "cell_type": "code",
      "metadata": {
        "scrolled": false,
        "id": "NZfAZZlJJrbS",
        "colab_type": "code",
        "outputId": "74afa27d-0c78-4d3f-dc9c-e2f6e5983ca3",
        "colab": {
          "base_uri": "https://localhost:8080/",
          "height": 390
        }
      },
      "source": [
        "#Correlation heatmap\n",
        "\n",
        "plt.figure(figsize=(7,5))\n",
        "sns.heatmap(data.corr(), annot=True, cmap='Oranges')\n",
        "plt.show()"
      ],
      "execution_count": 0,
      "outputs": [
        {
          "output_type": "display_data",
          "data": {
            "image/png": "[encoded data removed]",
            "text/plain": [
              "<Figure size 504x360 with 2 Axes>"
            ]
          },
          "metadata": {
            "tags": [],
            "needs_background": "light"
          }
        }
      ]
    },
    {
      "cell_type": "code",
      "metadata": {
        "id": "wNUn9cLsJrbX",
        "colab_type": "code",
        "outputId": "b443ad2b-f001-4420-b667-1fe02f801f7e",
        "colab": {
          "base_uri": "https://localhost:8080/",
          "height": 242
        }
      },
      "source": [
        "#Gender and suicide count bar plot\n",
        "\n",
        "plt.figure(figsize=(10,3))\n",
        "sns.barplot(data.suicide_count,data.gender)\n",
        "plt.title('Gender - Suicide Count Bar Plot')\n",
        "plt.show()"
      ],
      "execution_count": 0,
      "outputs": [
        {
          "output_type": "display_data",
          "data": {
            "image/png": "[encoded data removed]",
            "text/plain": [
              "<Figure size 720x216 with 1 Axes>"
            ]
          },
          "metadata": {
            "tags": [],
            "needs_background": "light"
          }
        }
      ]
    },
    {
      "cell_type": "markdown",
      "metadata": {
        "id": "tYP1xC2gJrbc",
        "colab_type": "text"
      },
      "source": [
        "**The above bar plot shows that the suicide cases are more in male population.**\n",
        "\n",
        "But lets see if this pattern exists in all the age groups and also generations. "
      ]
    },
    {
      "cell_type": "code",
      "metadata": {
        "id": "HafmYUfCJrbd",
        "colab_type": "code",
        "outputId": "389c4ad5-1a5f-43f6-9ebc-0a939cc5dace",
        "colab": {
          "base_uri": "https://localhost:8080/",
          "height": 241
        }
      },
      "source": [
        "#Age Group - Count Bar Plot Grouped by Gender\n",
        "\n",
        "plt.figure(figsize=(10,3))\n",
        "sns.barplot(x = \"age_group\", y = \"suicide_count\", hue = \"gender\", data = data)\n",
        "plt.title(\"Age Group - Count Bar Plot Grouped by Gender\")\n",
        "plt.show()"
      ],
      "execution_count": 0,
      "outputs": [
        {
          "output_type": "display_data",
          "data": {
            "image/png": "[encoded data removed]",
            "text/plain": [
              "<Figure size 720x216 with 1 Axes>"
            ]
          },
          "metadata": {
            "tags": [],
            "needs_background": "light"
          }
        }
      ]
    },
    {
      "cell_type": "code",
      "metadata": {
        "id": "s_0F0yBIJrbi",
        "colab_type": "code",
        "outputId": "7b703490-6af6-4472-edc4-accbb057eb0b",
        "colab": {
          "base_uri": "https://localhost:8080/",
          "height": 350
        }
      },
      "source": [
        "#Generation - Count Bar Plot grouped by Gender\n",
        "\n",
        "plt.figure(figsize=(9,5))\n",
        "sns.barplot(x = \"generation\", y = \"suicide_count\", hue = \"gender\", data = data)\n",
        "plt.title('Generation - Count Bar Plot grouped by Gender')\n",
        "plt.show()"
      ],
      "execution_count": 0,
      "outputs": [
        {
          "output_type": "display_data",
          "data": {
            "image/png": "[encoded data removed]",
            "text/plain": [
              "<Figure size 648x360 with 1 Axes>"
            ]
          },
          "metadata": {
            "tags": [],
            "needs_background": "light"
          }
        }
      ]
    },
    {
      "cell_type": "markdown",
      "metadata": {
        "id": "TnfTjoP7Jrbn",
        "colab_type": "text"
      },
      "source": [
        "**From the above two bar plots, it is clear that men commit suicide considerably more than women irrespective of age group and generation they belong to.**\n",
        "\n",
        "Now, lets check the suicide cases based on the age group."
      ]
    },
    {
      "cell_type": "code",
      "metadata": {
        "id": "tIz59nXA2bpP",
        "colab_type": "code",
        "outputId": "b32acc51-8108-4c8b-d9e4-05332f2359b7",
        "colab": {
          "base_uri": "https://localhost:8080/",
          "height": 350
        }
      },
      "source": [
        "# Age Group and Suicide count bar plot\n",
        "\n",
        "plt.figure(figsize=(9,5))\n",
        "sns.barplot(x=data['age_group'], y=data['suicide_count'])\n",
        "plt.xlabel('Age Group')\n",
        "plt.ylabel('Suicide Count')\n",
        "plt.title('Age Group - Suicide Count Bar Plot')\n",
        "plt.show()"
      ],
      "execution_count": 0,
      "outputs": [
        {
          "output_type": "display_data",
          "data": {
            "image/png": "[encoded data removed]",
            "text/plain": [
              "<Figure size 648x360 with 1 Axes>"
            ]
          },
          "metadata": {
            "tags": [],
            "needs_background": "light"
          }
        }
      ]
    },
    {
      "cell_type": "markdown",
      "metadata": {
        "id": "TL_2puZK3vYc",
        "colab_type": "text"
      },
      "source": [
        "The above boxplot shows that the suicide cases are more in the age group of 35-54 years followed by 55- 74 years. The surprising part is that the suicide cases in 5-14 year age group even though they are very less, mostly in tens."
      ]
    },
    {
      "cell_type": "code",
      "metadata": {
        "scrolled": true,
        "id": "Yzfa-PlgJrbo",
        "colab_type": "code",
        "outputId": "b4d2d6d3-dca1-4801-8201-24f5b1f40c99",
        "colab": {
          "base_uri": "https://localhost:8080/",
          "height": 350
        }
      },
      "source": [
        "#Generation & Suicide Count Bar Plot\n",
        "\n",
        "plt.figure(figsize=(9,5))\n",
        "sns.barplot(x=data['generation'], y=data['suicide_count'])\n",
        "plt.xlabel('Generation')\n",
        "plt.ylabel('Suicide Count')\n",
        "plt.title('Generation - Suicide Count Bar Plot')\n",
        "plt.show()"
      ],
      "execution_count": 0,
      "outputs": [
        {
          "output_type": "display_data",
          "data": {
            "image/png": "[encoded data removed]",
            "text/plain": [
              "<Figure size 648x360 with 1 Axes>"
            ]
          },
          "metadata": {
            "tags": [],
            "needs_background": "light"
          }
        }
      ]
    },
    {
      "cell_type": "markdown",
      "metadata": {
        "id": "OHiuDaNLJrbt",
        "colab_type": "text"
      },
      "source": [
        "* The above boxplot shows that the suicide cases are more in the boomers, silent and X generations. These generations are made up of people born until 1976 based on the details provided.\n",
        "* On further observation, these generations are the ones were most of them are in the age group where most suicides occur."
      ]
    },
    {
      "cell_type": "code",
      "metadata": {
        "scrolled": false,
        "id": "u_7OxeeaJrbv",
        "colab_type": "code",
        "outputId": "3b783ab7-ed3f-48db-c9d5-deeeb458029d",
        "colab": {
          "base_uri": "https://localhost:8080/",
          "height": 459
        }
      },
      "source": [
        "#Gender & Sucide Count grouped by Age Group bar plot\n",
        "\n",
        "plt.figure(figsize=(7,7))\n",
        "sns.barplot(y=\"gender\", x=\"suicide_count\", hue=\"age_group\", data=data)\n",
        "plt.title('Gender & Sucide Count grouped by Age Group')\n",
        "plt.show()"
      ],
      "execution_count": 0,
      "outputs": [
        {
          "output_type": "display_data",
          "data": {
            "image/png": "[encoded data removed]",
            "text/plain": [
              "<Figure size 504x504 with 1 Axes>"
            ]
          },
          "metadata": {
            "tags": [],
            "needs_background": "light"
          }
        }
      ]
    },
    {
      "cell_type": "markdown",
      "metadata": {
        "id": "RFh3cY8yJrb0",
        "colab_type": "text"
      },
      "source": [
        "\n",
        "* From the above graph, we can infer that 35-54 years age group is more prone to suicides irrespective of the gender frollowed by 55-74 years age group. \n",
        "* All together, it is obvious that males tend to commit suicide more than female."
      ]
    },
    {
      "cell_type": "code",
      "metadata": {
        "id": "yn05WNZpJrb2",
        "colab_type": "code",
        "outputId": "e19d544a-f117-4a78-b5f9-250a1dc46e59",
        "colab": {
          "base_uri": "https://localhost:8080/",
          "height": 459
        }
      },
      "source": [
        "#Gender & Sucide Count grouped by Generation bar plot\n",
        "\n",
        "plt.figure(figsize=(7,7))\n",
        "sns.barplot(y=\"gender\", x=\"suicide_count\", hue=\"generation\", data=data)\n",
        "plt.title('Gender & Sucide Count grouped by Generation')\n",
        "plt.show()"
      ],
      "execution_count": 0,
      "outputs": [
        {
          "output_type": "display_data",
          "data": {
            "image/png": "[encoded data removed]",
            "text/plain": [
              "<Figure size 504x504 with 1 Axes>"
            ]
          },
          "metadata": {
            "tags": [],
            "needs_background": "light"
          }
        }
      ]
    },
    {
      "cell_type": "markdown",
      "metadata": {
        "id": "BM1IXvwzJrb8",
        "colab_type": "text"
      },
      "source": [
        "* In the case of generation, the Bloomers generation had more suicide cases followed by Silent generation irrespective of the gender.\n",
        "* Even when considered generation, males are more prone to commit suicide."
      ]
    },
    {
      "cell_type": "code",
      "metadata": {
        "scrolled": false,
        "id": "pwbi36P_Jrb9",
        "colab_type": "code",
        "outputId": "e61c3fe9-74ee-4778-e3b3-3bc6064533cf",
        "colab": {
          "base_uri": "https://localhost:8080/",
          "height": 1000
        }
      },
      "source": [
        "#Country & Suicide_rate Bar plot\n",
        "\n",
        "plt.figure(figsize=(15,25))\n",
        "sns.barplot(x = \"suicide_rate\", y = \"country\", data = data)\n",
        "plt.title('Country - Suicide_rate Bar plot')\n",
        "plt.show()"
      ],
      "execution_count": 0,
      "outputs": [
        {
          "output_type": "display_data",
          "data": {
            "image/png": "[encoded data removed]",
            "text/plain": [
              "<Figure size 1080x1800 with 1 Axes>"
            ]
          },
          "metadata": {
            "tags": [],
            "needs_background": "light"
          }
        }
      ]
    },
    {
      "cell_type": "markdown",
      "metadata": {
        "id": "ExIyevw4JrcC",
        "colab_type": "text"
      },
      "source": [
        "**The above bar plot shows that the  highest suicide rate country is  Lithuania followed by Sri Lanka.**"
      ]
    },
    {
      "cell_type": "code",
      "metadata": {
        "id": "vuV5pK1WJrcD",
        "colab_type": "code",
        "outputId": "694334b9-eeef-4a4b-b3f8-25bdb8084661",
        "colab": {
          "base_uri": "https://localhost:8080/",
          "height": 297
        }
      },
      "source": [
        "#Line plpot of year and suicide_rate\n",
        "\n",
        "data[['year','suicide_rate']].groupby(['year']).sum().plot()"
      ],
      "execution_count": 0,
      "outputs": [
        {
          "output_type": "execute_result",
          "data": {
            "text/plain": [
              "<matplotlib.axes._subplots.AxesSubplot at 0x7ff698103160>"
            ]
          },
          "metadata": {
            "tags": []
          },
          "execution_count": 21
        },
        {
          "output_type": "display_data",
          "data": {
            "image/png": "[encoded data removed]",
            "text/plain": [
              "<Figure size 432x288 with 1 Axes>"
            ]
          },
          "metadata": {
            "tags": [],
            "needs_background": "light"
          }
        }
      ]
    },
    {
      "cell_type": "markdown",
      "metadata": {
        "id": "U3xFvdY5JrcH",
        "colab_type": "text"
      },
      "source": [
        "**The observations from the above plot are that the suicide rate had grown rapidly from year 1990 & the rate of suicide has drastically reduced in year 2016.** The dataset was collected during early 2016. So all the suicide cases of 2016 are not recorded in the dataset."
      ]
    },
    {
      "cell_type": "code",
      "metadata": {
        "id": "qDRO2VXTBBFD",
        "colab_type": "code",
        "outputId": "71c38b36-2490-45aa-cc8d-b212188d23e0",
        "colab": {
          "base_uri": "https://localhost:8080/",
          "height": 644
        }
      },
      "source": [
        "#Scatter matrix for checking outlier\n",
        "\n",
        "plt.figure(figsize=(20,10))\n",
        "attributes = ['suicide_count', 'population', 'suicide_rate','HDI for year', \n",
        "              'gdp_for_year','gdp_per_capita']\n",
        "scatter_matrix(data[attributes], figsize=(20,10))\n",
        "plt.show()"
      ],
      "execution_count": 0,
      "outputs": [
        {
          "output_type": "display_data",
          "data": {
            "text/plain": [
              "<Figure size 1440x720 with 0 Axes>"
            ]
          },
          "metadata": {
            "tags": []
          }
        },
        {
          "output_type": "display_data",
          "data": {
            "image/png": "[encoded data removed]",
            "text/plain": [
              "<Figure size 1440x720 with 25 Axes>"
            ]
          },
          "metadata": {
            "tags": [],
            "needs_background": "light"
          }
        }
      ]
    },
    {
      "cell_type": "markdown",
      "metadata": {
        "id": "fG2WAo9eJrcI",
        "colab_type": "text"
      },
      "source": [
        "## **4. Data Preprocessing & EDA:**\n",
        "\n",
        "Here, we clean the data by applying data preprocesssing techniques and transform the data to use it in the models."
      ]
    },
    {
      "cell_type": "code",
      "metadata": {
        "scrolled": false,
        "id": "-l05DfNnJrcJ",
        "colab_type": "code",
        "outputId": "6b1855fa-7cb6-49ae-dc75-3154e83e6c34",
        "colab": {
          "base_uri": "https://localhost:8080/",
          "height": 282
        }
      },
      "source": [
        "data.describe()"
      ],
      "execution_count": 0,
      "outputs": [
        {
          "output_type": "execute_result",
          "data": {
            "text/html": [
              "<div>\n",
              "<style scoped>\n",
              "    .dataframe tbody tr th:only-of-type {\n",
              "        vertical-align: middle;\n",
              "    }\n",
              "\n",
              "    .dataframe tbody tr th {\n",
              "        vertical-align: top;\n",
              "    }\n",
              "\n",
              "    .dataframe thead th {\n",
              "        text-align: right;\n",
              "    }\n",
              "</style>\n",
              "<table border=\"1\" class=\"dataframe\">\n",
              "  <thead>\n",
              "    <tr style=\"text-align: right;\">\n",
              "      <th></th>\n",
              "      <th>year</th>\n",
              "      <th>suicide_count</th>\n",
              "      <th>population</th>\n",
              "      <th>suicide_rate</th>\n",
              "      <th>HDI for year</th>\n",
              "      <th>gdp_per_capita</th>\n",
              "    </tr>\n",
              "  </thead>\n",
              "  <tbody>\n",
              "    <tr>\n",
              "      <th>count</th>\n",
              "      <td>27820.000000</td>\n",
              "      <td>27820.000000</td>\n",
              "      <td>2.782000e+04</td>\n",
              "      <td>27820.000000</td>\n",
              "      <td>8364.000000</td>\n",
              "      <td>27820.000000</td>\n",
              "    </tr>\n",
              "    <tr>\n",
              "      <th>mean</th>\n",
              "      <td>2001.258375</td>\n",
              "      <td>242.574407</td>\n",
              "      <td>1.844794e+06</td>\n",
              "      <td>12.816097</td>\n",
              "      <td>0.776601</td>\n",
              "      <td>16866.464414</td>\n",
              "    </tr>\n",
              "    <tr>\n",
              "      <th>std</th>\n",
              "      <td>8.469055</td>\n",
              "      <td>902.047917</td>\n",
              "      <td>3.911779e+06</td>\n",
              "      <td>18.961511</td>\n",
              "      <td>0.093367</td>\n",
              "      <td>18887.576472</td>\n",
              "    </tr>\n",
              "    <tr>\n",
              "      <th>min</th>\n",
              "      <td>1985.000000</td>\n",
              "      <td>0.000000</td>\n",
              "      <td>2.780000e+02</td>\n",
              "      <td>0.000000</td>\n",
              "      <td>0.483000</td>\n",
              "      <td>251.000000</td>\n",
              "    </tr>\n",
              "    <tr>\n",
              "      <th>25%</th>\n",
              "      <td>1995.000000</td>\n",
              "      <td>3.000000</td>\n",
              "      <td>9.749850e+04</td>\n",
              "      <td>0.920000</td>\n",
              "      <td>0.713000</td>\n",
              "      <td>3447.000000</td>\n",
              "    </tr>\n",
              "    <tr>\n",
              "      <th>50%</th>\n",
              "      <td>2002.000000</td>\n",
              "      <td>25.000000</td>\n",
              "      <td>4.301500e+05</td>\n",
              "      <td>5.990000</td>\n",
              "      <td>0.779000</td>\n",
              "      <td>9372.000000</td>\n",
              "    </tr>\n",
              "    <tr>\n",
              "      <th>75%</th>\n",
              "      <td>2008.000000</td>\n",
              "      <td>131.000000</td>\n",
              "      <td>1.486143e+06</td>\n",
              "      <td>16.620000</td>\n",
              "      <td>0.855000</td>\n",
              "      <td>24874.000000</td>\n",
              "    </tr>\n",
              "    <tr>\n",
              "      <th>max</th>\n",
              "      <td>2016.000000</td>\n",
              "      <td>22338.000000</td>\n",
              "      <td>4.380521e+07</td>\n",
              "      <td>224.970000</td>\n",
              "      <td>0.944000</td>\n",
              "      <td>126352.000000</td>\n",
              "    </tr>\n",
              "  </tbody>\n",
              "</table>\n",
              "</div>"
            ],
            "text/plain": [
              "               year  suicide_count  ...  HDI for year  gdp_per_capita\n",
              "count  27820.000000   27820.000000  ...   8364.000000    27820.000000\n",
              "mean    2001.258375     242.574407  ...      0.776601    16866.464414\n",
              "std        8.469055     902.047917  ...      0.093367    18887.576472\n",
              "min     1985.000000       0.000000  ...      0.483000      251.000000\n",
              "25%     1995.000000       3.000000  ...      0.713000     3447.000000\n",
              "50%     2002.000000      25.000000  ...      0.779000     9372.000000\n",
              "75%     2008.000000     131.000000  ...      0.855000    24874.000000\n",
              "max     2016.000000   22338.000000  ...      0.944000   126352.000000\n",
              "\n",
              "[8 rows x 6 columns]"
            ]
          },
          "metadata": {
            "tags": []
          },
          "execution_count": 23
        }
      ]
    },
    {
      "cell_type": "code",
      "metadata": {
        "id": "gEKRQmQdJrcO",
        "colab_type": "code",
        "outputId": "87b2ae95-ce61-4965-bc65-d9f44bc5d016",
        "colab": {
          "base_uri": "https://localhost:8080/",
          "height": 248
        }
      },
      "source": [
        "#checking the data for null or missing values\n",
        "\n",
        "data.isnull().sum()"
      ],
      "execution_count": 0,
      "outputs": [
        {
          "output_type": "execute_result",
          "data": {
            "text/plain": [
              "country               0\n",
              "year                  0\n",
              "gender                0\n",
              "age_group             0\n",
              "suicide_count         0\n",
              "population            0\n",
              "suicide_rate          0\n",
              "country-year          0\n",
              "HDI for year      19456\n",
              "gdp_for_year          0\n",
              "gdp_per_capita        0\n",
              "generation            0\n",
              "dtype: int64"
            ]
          },
          "metadata": {
            "tags": []
          },
          "execution_count": 24
        }
      ]
    },
    {
      "cell_type": "markdown",
      "metadata": {
        "id": "z8uvkXaJJrcT",
        "colab_type": "text"
      },
      "source": [
        "From the above stats, it is clear that the column, `HDI for year` has 19456 null values out of 27820 samples which is approximately 70% of the column. This may tamper the model performance so, dropping the `HDI for year` column from the dataset."
      ]
    },
    {
      "cell_type": "code",
      "metadata": {
        "id": "PI146ZvIJrcU",
        "colab_type": "code",
        "outputId": "792706d5-1fc9-4f27-817f-16fd786f9ed7",
        "colab": {
          "base_uri": "https://localhost:8080/",
          "height": 35
        }
      },
      "source": [
        "#dropping the HDI for year column\n",
        "\n",
        "data = data.drop(['HDI for year'], axis = 1)\n",
        "data.shape"
      ],
      "execution_count": 0,
      "outputs": [
        {
          "output_type": "execute_result",
          "data": {
            "text/plain": [
              "(27820, 11)"
            ]
          },
          "metadata": {
            "tags": []
          },
          "execution_count": 25
        }
      ]
    },
    {
      "cell_type": "code",
      "metadata": {
        "id": "a9MKNEgjJrca",
        "colab_type": "code",
        "outputId": "9e03d747-c72c-4749-8977-3f73486b7109",
        "colab": {
          "base_uri": "https://localhost:8080/",
          "height": 88
        }
      },
      "source": [
        "data.columns"
      ],
      "execution_count": 0,
      "outputs": [
        {
          "output_type": "execute_result",
          "data": {
            "text/plain": [
              "Index(['country', 'year', 'gender', 'age_group', 'suicide_count', 'population',\n",
              "       'suicide_rate', 'country-year', 'gdp_for_year', 'gdp_per_capita',\n",
              "       'generation'],\n",
              "      dtype='object')"
            ]
          },
          "metadata": {
            "tags": []
          },
          "execution_count": 26
        }
      ]
    },
    {
      "cell_type": "markdown",
      "metadata": {
        "id": "xpVKRgsYJrce",
        "colab_type": "text"
      },
      "source": [
        "The column country-year is just a combination of country and year columns. So dropping that column."
      ]
    },
    {
      "cell_type": "code",
      "metadata": {
        "id": "gSn8Pg4rJrcf",
        "colab_type": "code",
        "outputId": "635a2d8f-889d-4af4-a2b9-0f6cfc47c073",
        "colab": {
          "base_uri": "https://localhost:8080/",
          "height": 35
        }
      },
      "source": [
        "#dropping the country-year for year column\n",
        "\n",
        "data = data.drop(['country-year'], axis = 1)\n",
        "data.shape"
      ],
      "execution_count": 0,
      "outputs": [
        {
          "output_type": "execute_result",
          "data": {
            "text/plain": [
              "(27820, 10)"
            ]
          },
          "metadata": {
            "tags": []
          },
          "execution_count": 27
        }
      ]
    },
    {
      "cell_type": "markdown",
      "metadata": {
        "id": "Sa6vo9J9Jrck",
        "colab_type": "text"
      },
      "source": [
        "Now we are going further with 10 features which also include the target column. For further assurance, lets drop all the null rows from the dataset."
      ]
    },
    {
      "cell_type": "code",
      "metadata": {
        "id": "xLLiugQDJrcl",
        "colab_type": "code",
        "outputId": "f38da4dd-7d51-42d6-aa72-ab6134fad0b7",
        "colab": {
          "base_uri": "https://localhost:8080/",
          "height": 35
        }
      },
      "source": [
        "#droppinf off any null rows (is any)\n",
        "\n",
        "data = data.dropna()\n",
        "data.shape"
      ],
      "execution_count": 0,
      "outputs": [
        {
          "output_type": "execute_result",
          "data": {
            "text/plain": [
              "(27820, 10)"
            ]
          },
          "metadata": {
            "tags": []
          },
          "execution_count": 28
        }
      ]
    },
    {
      "cell_type": "markdown",
      "metadata": {
        "id": "aOwL6v_TJrc8",
        "colab_type": "text"
      },
      "source": [
        "The non-numerical labeled columns, country, year, gender, age_group and generation are to be converted to numerical labels that can be don by using SkLearn's LabelEncoder."
      ]
    },
    {
      "cell_type": "code",
      "metadata": {
        "id": "7wWr9BSnhtDb",
        "colab_type": "code",
        "colab": {}
      },
      "source": [
        "#encoding the categorical features with LabelEncoder\n",
        "\n",
        "from sklearn.preprocessing import LabelEncoder\n",
        "categorical = ['country', 'year','age_group', 'gender', 'generation']\n",
        "le = sklearn.preprocessing.LabelEncoder()\n",
        "\n",
        "for column in categorical:\n",
        "    data[column] = le.fit_transform(data[column])"
      ],
      "execution_count": 0,
      "outputs": []
    },
    {
      "cell_type": "code",
      "metadata": {
        "id": "2874A9Kjl6oc",
        "colab_type": "code",
        "outputId": "f381479a-287d-49bc-fc0a-8e0ea5de73f2",
        "colab": {
          "base_uri": "https://localhost:8080/",
          "height": 399
        }
      },
      "source": [
        "#creating a copy of dataset for statistical test\n",
        "\n",
        "stat_data = data.copy()\n",
        "stat_data"
      ],
      "execution_count": 0,
      "outputs": [
        {
          "output_type": "execute_result",
          "data": {
            "text/html": [
              "<div>\n",
              "<style scoped>\n",
              "    .dataframe tbody tr th:only-of-type {\n",
              "        vertical-align: middle;\n",
              "    }\n",
              "\n",
              "    .dataframe tbody tr th {\n",
              "        vertical-align: top;\n",
              "    }\n",
              "\n",
              "    .dataframe thead th {\n",
              "        text-align: right;\n",
              "    }\n",
              "</style>\n",
              "<table border=\"1\" class=\"dataframe\">\n",
              "  <thead>\n",
              "    <tr style=\"text-align: right;\">\n",
              "      <th></th>\n",
              "      <th>country</th>\n",
              "      <th>year</th>\n",
              "      <th>gender</th>\n",
              "      <th>age_group</th>\n",
              "      <th>suicide_count</th>\n",
              "      <th>population</th>\n",
              "      <th>suicide_rate</th>\n",
              "      <th>gdp_for_year</th>\n",
              "      <th>gdp_per_capita</th>\n",
              "      <th>generation</th>\n",
              "    </tr>\n",
              "  </thead>\n",
              "  <tbody>\n",
              "    <tr>\n",
              "      <th>0</th>\n",
              "      <td>0</td>\n",
              "      <td>2</td>\n",
              "      <td>1</td>\n",
              "      <td>0</td>\n",
              "      <td>21</td>\n",
              "      <td>312900</td>\n",
              "      <td>6.71</td>\n",
              "      <td>2,156,624,900</td>\n",
              "      <td>796</td>\n",
              "      <td>2</td>\n",
              "    </tr>\n",
              "    <tr>\n",
              "      <th>1</th>\n",
              "      <td>0</td>\n",
              "      <td>2</td>\n",
              "      <td>1</td>\n",
              "      <td>2</td>\n",
              "      <td>16</td>\n",
              "      <td>308000</td>\n",
              "      <td>5.19</td>\n",
              "      <td>2,156,624,900</td>\n",
              "      <td>796</td>\n",
              "      <td>5</td>\n",
              "    </tr>\n",
              "    <tr>\n",
              "      <th>2</th>\n",
              "      <td>0</td>\n",
              "      <td>2</td>\n",
              "      <td>0</td>\n",
              "      <td>0</td>\n",
              "      <td>14</td>\n",
              "      <td>289700</td>\n",
              "      <td>4.83</td>\n",
              "      <td>2,156,624,900</td>\n",
              "      <td>796</td>\n",
              "      <td>2</td>\n",
              "    </tr>\n",
              "    <tr>\n",
              "      <th>3</th>\n",
              "      <td>0</td>\n",
              "      <td>2</td>\n",
              "      <td>1</td>\n",
              "      <td>5</td>\n",
              "      <td>1</td>\n",
              "      <td>21800</td>\n",
              "      <td>4.59</td>\n",
              "      <td>2,156,624,900</td>\n",
              "      <td>796</td>\n",
              "      <td>1</td>\n",
              "    </tr>\n",
              "    <tr>\n",
              "      <th>4</th>\n",
              "      <td>0</td>\n",
              "      <td>2</td>\n",
              "      <td>1</td>\n",
              "      <td>1</td>\n",
              "      <td>9</td>\n",
              "      <td>274300</td>\n",
              "      <td>3.28</td>\n",
              "      <td>2,156,624,900</td>\n",
              "      <td>796</td>\n",
              "      <td>0</td>\n",
              "    </tr>\n",
              "    <tr>\n",
              "      <th>...</th>\n",
              "      <td>...</td>\n",
              "      <td>...</td>\n",
              "      <td>...</td>\n",
              "      <td>...</td>\n",
              "      <td>...</td>\n",
              "      <td>...</td>\n",
              "      <td>...</td>\n",
              "      <td>...</td>\n",
              "      <td>...</td>\n",
              "      <td>...</td>\n",
              "    </tr>\n",
              "    <tr>\n",
              "      <th>27815</th>\n",
              "      <td>100</td>\n",
              "      <td>29</td>\n",
              "      <td>0</td>\n",
              "      <td>2</td>\n",
              "      <td>107</td>\n",
              "      <td>3620833</td>\n",
              "      <td>2.96</td>\n",
              "      <td>63,067,077,179</td>\n",
              "      <td>2309</td>\n",
              "      <td>2</td>\n",
              "    </tr>\n",
              "    <tr>\n",
              "      <th>27816</th>\n",
              "      <td>100</td>\n",
              "      <td>29</td>\n",
              "      <td>0</td>\n",
              "      <td>5</td>\n",
              "      <td>9</td>\n",
              "      <td>348465</td>\n",
              "      <td>2.58</td>\n",
              "      <td>63,067,077,179</td>\n",
              "      <td>2309</td>\n",
              "      <td>5</td>\n",
              "    </tr>\n",
              "    <tr>\n",
              "      <th>27817</th>\n",
              "      <td>100</td>\n",
              "      <td>29</td>\n",
              "      <td>1</td>\n",
              "      <td>3</td>\n",
              "      <td>60</td>\n",
              "      <td>2762158</td>\n",
              "      <td>2.17</td>\n",
              "      <td>63,067,077,179</td>\n",
              "      <td>2309</td>\n",
              "      <td>3</td>\n",
              "    </tr>\n",
              "    <tr>\n",
              "      <th>27818</th>\n",
              "      <td>100</td>\n",
              "      <td>29</td>\n",
              "      <td>0</td>\n",
              "      <td>3</td>\n",
              "      <td>44</td>\n",
              "      <td>2631600</td>\n",
              "      <td>1.67</td>\n",
              "      <td>63,067,077,179</td>\n",
              "      <td>2309</td>\n",
              "      <td>3</td>\n",
              "    </tr>\n",
              "    <tr>\n",
              "      <th>27819</th>\n",
              "      <td>100</td>\n",
              "      <td>29</td>\n",
              "      <td>0</td>\n",
              "      <td>4</td>\n",
              "      <td>21</td>\n",
              "      <td>1438935</td>\n",
              "      <td>1.46</td>\n",
              "      <td>63,067,077,179</td>\n",
              "      <td>2309</td>\n",
              "      <td>0</td>\n",
              "    </tr>\n",
              "  </tbody>\n",
              "</table>\n",
              "<p>27820 rows × 10 columns</p>\n",
              "</div>"
            ],
            "text/plain": [
              "       country  year  gender  ...    gdp_for_year  gdp_per_capita  generation\n",
              "0            0     2       1  ...   2,156,624,900             796           2\n",
              "1            0     2       1  ...   2,156,624,900             796           5\n",
              "2            0     2       0  ...   2,156,624,900             796           2\n",
              "3            0     2       1  ...   2,156,624,900             796           1\n",
              "4            0     2       1  ...   2,156,624,900             796           0\n",
              "...        ...   ...     ...  ...             ...             ...         ...\n",
              "27815      100    29       0  ...  63,067,077,179            2309           2\n",
              "27816      100    29       0  ...  63,067,077,179            2309           5\n",
              "27817      100    29       1  ...  63,067,077,179            2309           3\n",
              "27818      100    29       0  ...  63,067,077,179            2309           3\n",
              "27819      100    29       0  ...  63,067,077,179            2309           0\n",
              "\n",
              "[27820 rows x 10 columns]"
            ]
          },
          "metadata": {
            "tags": []
          },
          "execution_count": 30
        }
      ]
    },
    {
      "cell_type": "markdown",
      "metadata": {
        "id": "1syJ6q7OJrcp",
        "colab_type": "text"
      },
      "source": [
        "Standardization of a dataset is a common requirement for many machine learning estimators: they might behave badly if the individual features do not more or less look like standard normally distributed data. So, the numerical columns, `population`, `gdp_for_year` & `gdp_per_capita` are being standardized using SkLearn's RobustScalar."
      ]
    },
    {
      "cell_type": "code",
      "metadata": {
        "scrolled": true,
        "id": "u_CUS3-cJrcq",
        "colab_type": "code",
        "outputId": "d3fca057-e50c-413f-a803-9f85d51a465c",
        "colab": {
          "base_uri": "https://localhost:8080/",
          "height": 212
        }
      },
      "source": [
        "#Checking the data type of each column\n",
        "\n",
        "data.dtypes"
      ],
      "execution_count": 0,
      "outputs": [
        {
          "output_type": "execute_result",
          "data": {
            "text/plain": [
              "country             int64\n",
              "year                int64\n",
              "gender              int64\n",
              "age_group           int64\n",
              "suicide_count       int64\n",
              "population          int64\n",
              "suicide_rate      float64\n",
              "gdp_for_year       object\n",
              "gdp_per_capita      int64\n",
              "generation          int64\n",
              "dtype: object"
            ]
          },
          "metadata": {
            "tags": []
          },
          "execution_count": 31
        }
      ]
    },
    {
      "cell_type": "code",
      "metadata": {
        "scrolled": false,
        "id": "Sw2_Re7xJrcz",
        "colab_type": "code",
        "colab": {}
      },
      "source": [
        "# Converting the column 'gdp_for_year' to float from object\n",
        "\n",
        "data['gdp_for_year'] = data['gdp_for_year'].str.replace(',','').astype(float)"
      ],
      "execution_count": 0,
      "outputs": []
    },
    {
      "cell_type": "code",
      "metadata": {
        "id": "uEeVV8tYb6Wh",
        "colab_type": "code",
        "colab": {}
      },
      "source": [
        "#Scaling the numerical data columns with RobustScalar\n",
        "\n",
        "numerical = ['suicide_count', 'population', 'suicide_rate', \n",
        "              'gdp_for_year','gdp_per_capita']\n",
        "\n",
        "from sklearn.preprocessing import RobustScaler\n",
        "\n",
        "rc = RobustScaler()\n",
        "data[numerical] = rc.fit_transform(data[numerical])"
      ],
      "execution_count": 0,
      "outputs": []
    },
    {
      "cell_type": "code",
      "metadata": {
        "id": "KCnkaPqLJrc-",
        "colab_type": "code",
        "outputId": "7b276ad8-cdeb-481c-ae42-a5ec6bbe096e",
        "colab": {
          "base_uri": "https://localhost:8080/",
          "height": 399
        }
      },
      "source": [
        "data"
      ],
      "execution_count": 0,
      "outputs": [
        {
          "output_type": "execute_result",
          "data": {
            "text/html": [
              "<div>\n",
              "<style scoped>\n",
              "    .dataframe tbody tr th:only-of-type {\n",
              "        vertical-align: middle;\n",
              "    }\n",
              "\n",
              "    .dataframe tbody tr th {\n",
              "        vertical-align: top;\n",
              "    }\n",
              "\n",
              "    .dataframe thead th {\n",
              "        text-align: right;\n",
              "    }\n",
              "</style>\n",
              "<table border=\"1\" class=\"dataframe\">\n",
              "  <thead>\n",
              "    <tr style=\"text-align: right;\">\n",
              "      <th></th>\n",
              "      <th>country</th>\n",
              "      <th>year</th>\n",
              "      <th>gender</th>\n",
              "      <th>age_group</th>\n",
              "      <th>suicide_count</th>\n",
              "      <th>population</th>\n",
              "      <th>suicide_rate</th>\n",
              "      <th>gdp_for_year</th>\n",
              "      <th>gdp_per_capita</th>\n",
              "      <th>generation</th>\n",
              "    </tr>\n",
              "  </thead>\n",
              "  <tbody>\n",
              "    <tr>\n",
              "      <th>0</th>\n",
              "      <td>0</td>\n",
              "      <td>2</td>\n",
              "      <td>1</td>\n",
              "      <td>0</td>\n",
              "      <td>-0.031250</td>\n",
              "      <td>-0.084435</td>\n",
              "      <td>0.045860</td>\n",
              "      <td>-0.182942</td>\n",
              "      <td>-0.400243</td>\n",
              "      <td>2</td>\n",
              "    </tr>\n",
              "    <tr>\n",
              "      <th>1</th>\n",
              "      <td>0</td>\n",
              "      <td>2</td>\n",
              "      <td>1</td>\n",
              "      <td>2</td>\n",
              "      <td>-0.070312</td>\n",
              "      <td>-0.087963</td>\n",
              "      <td>-0.050955</td>\n",
              "      <td>-0.182942</td>\n",
              "      <td>-0.400243</td>\n",
              "      <td>5</td>\n",
              "    </tr>\n",
              "    <tr>\n",
              "      <th>2</th>\n",
              "      <td>0</td>\n",
              "      <td>2</td>\n",
              "      <td>0</td>\n",
              "      <td>0</td>\n",
              "      <td>-0.085938</td>\n",
              "      <td>-0.101142</td>\n",
              "      <td>-0.073885</td>\n",
              "      <td>-0.182942</td>\n",
              "      <td>-0.400243</td>\n",
              "      <td>2</td>\n",
              "    </tr>\n",
              "    <tr>\n",
              "      <th>3</th>\n",
              "      <td>0</td>\n",
              "      <td>2</td>\n",
              "      <td>1</td>\n",
              "      <td>5</td>\n",
              "      <td>-0.187500</td>\n",
              "      <td>-0.294064</td>\n",
              "      <td>-0.089172</td>\n",
              "      <td>-0.182942</td>\n",
              "      <td>-0.400243</td>\n",
              "      <td>1</td>\n",
              "    </tr>\n",
              "    <tr>\n",
              "      <th>4</th>\n",
              "      <td>0</td>\n",
              "      <td>2</td>\n",
              "      <td>1</td>\n",
              "      <td>1</td>\n",
              "      <td>-0.125000</td>\n",
              "      <td>-0.112232</td>\n",
              "      <td>-0.172611</td>\n",
              "      <td>-0.182942</td>\n",
              "      <td>-0.400243</td>\n",
              "      <td>0</td>\n",
              "    </tr>\n",
              "    <tr>\n",
              "      <th>...</th>\n",
              "      <td>...</td>\n",
              "      <td>...</td>\n",
              "      <td>...</td>\n",
              "      <td>...</td>\n",
              "      <td>...</td>\n",
              "      <td>...</td>\n",
              "      <td>...</td>\n",
              "      <td>...</td>\n",
              "      <td>...</td>\n",
              "      <td>...</td>\n",
              "    </tr>\n",
              "    <tr>\n",
              "      <th>27815</th>\n",
              "      <td>100</td>\n",
              "      <td>29</td>\n",
              "      <td>0</td>\n",
              "      <td>2</td>\n",
              "      <td>0.640625</td>\n",
              "      <td>2.297696</td>\n",
              "      <td>-0.192994</td>\n",
              "      <td>0.059520</td>\n",
              "      <td>-0.329631</td>\n",
              "      <td>2</td>\n",
              "    </tr>\n",
              "    <tr>\n",
              "      <th>27816</th>\n",
              "      <td>100</td>\n",
              "      <td>29</td>\n",
              "      <td>0</td>\n",
              "      <td>5</td>\n",
              "      <td>-0.125000</td>\n",
              "      <td>-0.058824</td>\n",
              "      <td>-0.217197</td>\n",
              "      <td>0.059520</td>\n",
              "      <td>-0.329631</td>\n",
              "      <td>5</td>\n",
              "    </tr>\n",
              "    <tr>\n",
              "      <th>27817</th>\n",
              "      <td>100</td>\n",
              "      <td>29</td>\n",
              "      <td>1</td>\n",
              "      <td>3</td>\n",
              "      <td>0.273438</td>\n",
              "      <td>1.679341</td>\n",
              "      <td>-0.243312</td>\n",
              "      <td>0.059520</td>\n",
              "      <td>-0.329631</td>\n",
              "      <td>3</td>\n",
              "    </tr>\n",
              "    <tr>\n",
              "      <th>27818</th>\n",
              "      <td>100</td>\n",
              "      <td>29</td>\n",
              "      <td>0</td>\n",
              "      <td>3</td>\n",
              "      <td>0.148438</td>\n",
              "      <td>1.585323</td>\n",
              "      <td>-0.275159</td>\n",
              "      <td>0.059520</td>\n",
              "      <td>-0.329631</td>\n",
              "      <td>3</td>\n",
              "    </tr>\n",
              "    <tr>\n",
              "      <th>27819</th>\n",
              "      <td>100</td>\n",
              "      <td>29</td>\n",
              "      <td>0</td>\n",
              "      <td>4</td>\n",
              "      <td>-0.031250</td>\n",
              "      <td>0.726453</td>\n",
              "      <td>-0.288535</td>\n",
              "      <td>0.059520</td>\n",
              "      <td>-0.329631</td>\n",
              "      <td>0</td>\n",
              "    </tr>\n",
              "  </tbody>\n",
              "</table>\n",
              "<p>27820 rows × 10 columns</p>\n",
              "</div>"
            ],
            "text/plain": [
              "       country  year  gender  ...  gdp_for_year  gdp_per_capita  generation\n",
              "0            0     2       1  ...     -0.182942       -0.400243           2\n",
              "1            0     2       1  ...     -0.182942       -0.400243           5\n",
              "2            0     2       0  ...     -0.182942       -0.400243           2\n",
              "3            0     2       1  ...     -0.182942       -0.400243           1\n",
              "4            0     2       1  ...     -0.182942       -0.400243           0\n",
              "...        ...   ...     ...  ...           ...             ...         ...\n",
              "27815      100    29       0  ...      0.059520       -0.329631           2\n",
              "27816      100    29       0  ...      0.059520       -0.329631           5\n",
              "27817      100    29       1  ...      0.059520       -0.329631           3\n",
              "27818      100    29       0  ...      0.059520       -0.329631           3\n",
              "27819      100    29       0  ...      0.059520       -0.329631           0\n",
              "\n",
              "[27820 rows x 10 columns]"
            ]
          },
          "metadata": {
            "tags": []
          },
          "execution_count": 34
        }
      ]
    },
    {
      "cell_type": "markdown",
      "metadata": {
        "id": "WGrtnDb1JrdC",
        "colab_type": "text"
      },
      "source": [
        "## **5. Splitting the Data:**\n",
        "\n",
        "The data is split into train & test sets, 80-20 split."
      ]
    },
    {
      "cell_type": "code",
      "metadata": {
        "scrolled": false,
        "id": "8eDXiI-bJrdD",
        "colab_type": "code",
        "outputId": "36f4865b-8b88-421f-9d0a-08333117c5aa",
        "colab": {
          "base_uri": "https://localhost:8080/",
          "height": 35
        }
      },
      "source": [
        "# Sepratating & assigning features and target columns to X & y\n",
        "\n",
        "y = data['suicide_rate']\n",
        "X = data.drop('suicide_rate',axis=1)\n",
        "X.shape, y.shape"
      ],
      "execution_count": 0,
      "outputs": [
        {
          "output_type": "execute_result",
          "data": {
            "text/plain": [
              "((27820, 9), (27820,))"
            ]
          },
          "metadata": {
            "tags": []
          },
          "execution_count": 35
        }
      ]
    },
    {
      "cell_type": "code",
      "metadata": {
        "scrolled": true,
        "id": "rvt2xPcFJrdI",
        "colab_type": "code",
        "outputId": "3be01a53-faca-4af2-fa91-198eabe61fe4",
        "colab": {
          "base_uri": "https://localhost:8080/",
          "height": 35
        }
      },
      "source": [
        "# Splitting the dataset into train and test sets: 80-20 split\n",
        "\n",
        "from sklearn.model_selection import train_test_split\n",
        "\n",
        "X_train, X_test, y_train, y_test = train_test_split(X, y, test_size = 0.2, random_state = 12)\n",
        "X_train.shape, X_test.shape"
      ],
      "execution_count": 0,
      "outputs": [
        {
          "output_type": "execute_result",
          "data": {
            "text/plain": [
              "((22256, 9), (5564, 9))"
            ]
          },
          "metadata": {
            "tags": []
          },
          "execution_count": 36
        }
      ]
    },
    {
      "cell_type": "markdown",
      "metadata": {
        "id": "xvU-3zOJJrdO",
        "colab_type": "text"
      },
      "source": [
        "## **6. Model Building & Training:**\n",
        "\n",
        "&nbsp;&nbsp;&nbsp;&nbsp;&nbsp;&nbsp;&nbsp;&nbsp;&nbsp;&nbsp;&nbsp;&nbsp;&nbsp;&nbsp;Supervised machine learning is one of the most commonly used and successful types of machine learning. Supervised learning is used whenever we want to predict a certain outcome/label from a given set of features, and we have examples of features-label pairs. We build a machine learning model from these features-label pairs, which comprise our training set. Our goal is to make accurate predictions for new, never-before-seen data.\n",
        "\n",
        "&nbsp;&nbsp;&nbsp;&nbsp;&nbsp;&nbsp;&nbsp;&nbsp;&nbsp;&nbsp;&nbsp;&nbsp;&nbsp;&nbsp;There are two major types of supervised machine learning problems, called classification and regression. Our data set comes under regression problem, as the prediction of suicide rate is a continuous number, or a floating-point number in programming terms. The supervised machine learning models (regression) considered to train the dataset in this notebook are:\n",
        "* k-Nearest Neighbors Regression \n",
        "* Linear Regression\n",
        "* Decision Tree\n",
        "* Random Forest\n",
        "* Gradient Boosting\n",
        "* Multilayer Perceptrons\n",
        "* XGBoost\n",
        "* Bagging Regression\n",
        "* Custom Ensemble: SuperLearner\n",
        "\n",
        "&nbsp;&nbsp;&nbsp;&nbsp;&nbsp;&nbsp;&nbsp;&nbsp;&nbsp;&nbsp;&nbsp;&nbsp;&nbsp;&nbsp;The metrics considered to evaluate the model performance are Accuracy & Root Mean Squared Error.\n",
        "\n"
      ]
    },
    {
      "cell_type": "code",
      "metadata": {
        "id": "4-FiFFE8U3Np",
        "colab_type": "code",
        "colab": {}
      },
      "source": [
        "#importing required libraries \n",
        "from sklearn.metrics import mean_squared_error\n",
        "from sklearn.model_selection import GridSearchCV"
      ],
      "execution_count": 0,
      "outputs": []
    },
    {
      "cell_type": "code",
      "metadata": {
        "id": "XnnP3JBdsV3_",
        "colab_type": "code",
        "colab": {}
      },
      "source": [
        "# Creating holders to store the model performance results\n",
        "ML_Model = []\n",
        "acc_train = []\n",
        "acc_test = []\n",
        "rmse_train = []\n",
        "rmse_test = []\n",
        "\n",
        "#function to call for storing the results\n",
        "def storeResults(model, a,b,c,d):\n",
        "  ML_Model.append(model)\n",
        "  acc_train.append(round(a, 3))\n",
        "  acc_test.append(round(b, 3))\n",
        "  rmse_train.append(round(c, 3))\n",
        "  rmse_test.append(round(d, 3))"
      ],
      "execution_count": 0,
      "outputs": []
    },
    {
      "cell_type": "markdown",
      "metadata": {
        "id": "UJzPG709Mg1q",
        "colab_type": "text"
      },
      "source": [
        "### **6.1. k-Nearest Neighbors Regression:**\n",
        "\n",
        "&nbsp;&nbsp;&nbsp;&nbsp;&nbsp;&nbsp;&nbsp;&nbsp;&nbsp;&nbsp;&nbsp;&nbsp;&nbsp;&nbsp;K nearest neighbors is a simple algorithm that stores all available cases and predict the numerical target based on a similarity measure (e.g., distance functions). A simple implementation of KNN regression is to calculate the average of the numerical target of the k nearest neighbors."
      ]
    },
    {
      "cell_type": "code",
      "metadata": {
        "id": "YA8km8bBOBXN",
        "colab_type": "code",
        "outputId": "e3564bff-9c04-464f-c959-a15ac71cf827",
        "colab": {
          "base_uri": "https://localhost:8080/",
          "height": 248
        }
      },
      "source": [
        "# KNN Regression model\n",
        "from sklearn.neighbors import KNeighborsRegressor\n",
        "\n",
        "# instantiate the model\n",
        "knn = KNeighborsRegressor()\n",
        "\n",
        "param_grid = {'n_neighbors':list(range(1, 31)), 'weights': ['uniform', 'distance']}\n",
        "\n",
        "# instantiate the grid\n",
        "knn_grid = GridSearchCV(knn, param_grid , cv=10)\n",
        "\n",
        "# fit the model \n",
        "knn_grid.fit(X_train, y_train)"
      ],
      "execution_count": 0,
      "outputs": [
        {
          "output_type": "execute_result",
          "data": {
            "text/plain": [
              "GridSearchCV(cv=10, error_score=nan,\n",
              "             estimator=KNeighborsRegressor(algorithm='auto', leaf_size=30,\n",
              "                                           metric='minkowski',\n",
              "                                           metric_params=None, n_jobs=None,\n",
              "                                           n_neighbors=5, p=2,\n",
              "                                           weights='uniform'),\n",
              "             iid='deprecated', n_jobs=None,\n",
              "             param_grid={'n_neighbors': [1, 2, 3, 4, 5, 6, 7, 8, 9, 10, 11, 12,\n",
              "                                         13, 14, 15, 16, 17, 18, 19, 20, 21, 22,\n",
              "                                         23, 24, 25, 26, 27, 28, 29, 30],\n",
              "                         'weights': ['uniform', 'distance']},\n",
              "             pre_dispatch='2*n_jobs', refit=True, return_train_score=False,\n",
              "             scoring=None, verbose=0)"
            ]
          },
          "metadata": {
            "tags": []
          },
          "execution_count": 39
        }
      ]
    },
    {
      "cell_type": "code",
      "metadata": {
        "id": "3_mRw5R3q39p",
        "colab_type": "code",
        "outputId": "0777d814-6a1d-473f-fa2c-b658a76e64bf",
        "colab": {
          "base_uri": "https://localhost:8080/",
          "height": 35
        }
      },
      "source": [
        "#Checking the best parameters for the model\n",
        "knn_para = knn_grid.best_params_\n",
        "print(knn_para)"
      ],
      "execution_count": 0,
      "outputs": [
        {
          "output_type": "stream",
          "text": [
            "{'n_neighbors': 1, 'weights': 'uniform'}\n"
          ],
          "name": "stdout"
        }
      ]
    },
    {
      "cell_type": "code",
      "metadata": {
        "id": "HYwHEDsFTeEf",
        "colab_type": "code",
        "colab": {}
      },
      "source": [
        "#predicting the target value from the model for the samples\n",
        "y_train_knn = knn_grid.predict(X_train)\n",
        "y_test_knn = knn_grid.predict(X_test)"
      ],
      "execution_count": 0,
      "outputs": []
    },
    {
      "cell_type": "markdown",
      "metadata": {
        "id": "ezJTO40RTaEr",
        "colab_type": "text"
      },
      "source": [
        "**Performance Evaluation:**"
      ]
    },
    {
      "cell_type": "code",
      "metadata": {
        "id": "Or3CUzLxTJeh",
        "colab_type": "code",
        "outputId": "62e8dd1c-85b9-4598-d602-3ea2796907d9",
        "colab": {
          "base_uri": "https://localhost:8080/",
          "height": 106
        }
      },
      "source": [
        "#computing the accuracy of the model performance\n",
        "acc_train_knn = knn_grid.score(X_train, y_train) \n",
        "acc_test_knn = knn_grid.score(X_test, y_test)\n",
        "\n",
        "#computing root mean squared error (RMSE)\n",
        "rmse_train_knn = np.sqrt(mean_squared_error(y_train, y_train_knn))\n",
        "rmse_test_knn = np.sqrt(mean_squared_error(y_test, y_test_knn))\n",
        "\n",
        "print(\"KNN: Accuracy on training Data: {:.3f}\".format(acc_train_knn))\n",
        "print(\"KNN: Accuracy on test Data: {:.3f}\".format(acc_test_knn))\n",
        "print('\\nKNN: The RMSE of the training set is:', rmse_train_knn)\n",
        "print('KNN: The RMSE of the testing set is:', rmse_test_knn)"
      ],
      "execution_count": 0,
      "outputs": [
        {
          "output_type": "stream",
          "text": [
            "KNN: Accuracy on training Data: 1.000\n",
            "KNN: Accuracy on test Data: 0.812\n",
            "\n",
            "KNN: The RMSE of the training set is: 0.0\n",
            "KNN: The RMSE of the testing set is: 0.5358202421806745\n"
          ],
          "name": "stdout"
        }
      ]
    },
    {
      "cell_type": "markdown",
      "metadata": {
        "id": "WPFWrzg_xfY6",
        "colab_type": "text"
      },
      "source": [
        "**Storing Results:**"
      ]
    },
    {
      "cell_type": "code",
      "metadata": {
        "id": "AgbKwIMFs0IL",
        "colab_type": "code",
        "colab": {}
      },
      "source": [
        "#storing the results. The below mentioned order of parameter passing is important.\n",
        "#Caution: Execute only once to avoid duplications.\n",
        "storeResults('k-Nearest Neighbors Regression', acc_train_knn, acc_test_knn, rmse_train_knn, rmse_test_knn)"
      ],
      "execution_count": 0,
      "outputs": []
    },
    {
      "cell_type": "markdown",
      "metadata": {
        "id": "YhHLCh6fcBkH",
        "colab_type": "text"
      },
      "source": [
        "Evaluating training and testing set performance with different numbers of neighbors from 1 to 30. The plot shows the training and test set accuracy on the y-axis against the setting of\n",
        "n_neighbors on the x-axis."
      ]
    },
    {
      "cell_type": "code",
      "metadata": {
        "id": "xtSHKTBkZqIP",
        "colab_type": "code",
        "outputId": "1e51e24e-3426-4073-f09a-bf7eca771978",
        "colab": {
          "base_uri": "https://localhost:8080/",
          "height": 298
        }
      },
      "source": [
        "training_accuracy = []\n",
        "test_accuracy = []\n",
        "# try n_neighbors from 1 to 20\n",
        "neighbors_settings = range(1, 31)\n",
        "for n in neighbors_settings:\n",
        "  # fit the model\n",
        "  knn = KNeighborsRegressor(n_neighbors=n)\n",
        "  knn.fit(X_train, y_train)\n",
        "  # record training set accuracy\n",
        "  training_accuracy.append(knn.score(X_train, y_train))\n",
        "  # record generalization accuracy\n",
        "  test_accuracy.append(knn.score(X_test, y_test))\n",
        "\n",
        "#plotting the training & testing accuracy for n_neighbours from 1 to 30\n",
        "plt.plot(neighbors_settings, training_accuracy, label=\"training accuracy\")\n",
        "plt.plot(neighbors_settings, test_accuracy, label=\"test accuracy\")\n",
        "plt.ylabel(\"Accuracy\")  \n",
        "plt.xlabel(\"n_neighbors\")\n",
        "plt.legend()"
      ],
      "execution_count": 0,
      "outputs": [
        {
          "output_type": "execute_result",
          "data": {
            "text/plain": [
              "<matplotlib.legend.Legend at 0x7ff6931fd2b0>"
            ]
          },
          "metadata": {
            "tags": []
          },
          "execution_count": 44
        },
        {
          "output_type": "display_data",
          "data": {
            "image/png": "[encoded data removed]",
            "text/plain": [
              "<Figure size 432x288 with 1 Axes>"
            ]
          },
          "metadata": {
            "tags": [],
            "needs_background": "light"
          }
        }
      ]
    },
    {
      "cell_type": "markdown",
      "metadata": {
        "id": "S9RDEIXMVNEt",
        "colab_type": "text"
      },
      "source": [
        "**OBSERVATIONS:** This discrepancy between performance on the training set and the testing set fro n_neighbors < 5 is a clear sign of overfitting. After that, the perfromance is not so great so, moving on to the other models."
      ]
    },
    {
      "cell_type": "markdown",
      "metadata": {
        "id": "xU5ofQmeVNxT",
        "colab_type": "text"
      },
      "source": [
        "### **6.2. Linear Regression**\n",
        "\n",
        "&nbsp;&nbsp;&nbsp;&nbsp;&nbsp;&nbsp;&nbsp;&nbsp;&nbsp;&nbsp;&nbsp;&nbsp;&nbsp;&nbsp;Linear regression, or ordinary least squares (OLS), is the simplest and most classic linear method for regression. Linear regression finds the parameters w and b that minimize the mean squared error between predictions and the true regression targets, y, on the training set."
      ]
    },
    {
      "cell_type": "code",
      "metadata": {
        "id": "P3SXN6bPJrdP",
        "colab_type": "code",
        "outputId": "56321272-fd6f-464b-9735-796a6bca1e6e",
        "colab": {
          "base_uri": "https://localhost:8080/",
          "height": 35
        }
      },
      "source": [
        "# Linear regression model \n",
        "from sklearn.linear_model import LinearRegression\n",
        "\n",
        "# instantiate the model\n",
        "lr = LinearRegression()\n",
        "# fit the model \n",
        "lr.fit(X_train, y_train)"
      ],
      "execution_count": 0,
      "outputs": [
        {
          "output_type": "execute_result",
          "data": {
            "text/plain": [
              "LinearRegression(copy_X=True, fit_intercept=True, n_jobs=None, normalize=False)"
            ]
          },
          "metadata": {
            "tags": []
          },
          "execution_count": 45
        }
      ]
    },
    {
      "cell_type": "code",
      "metadata": {
        "id": "Ft9JzfhlJrdV",
        "colab_type": "code",
        "colab": {}
      },
      "source": [
        "#predicting the target value from the model for the samples\n",
        "y_test_lr = lr.predict(X_test)\n",
        "y_train_lr = lr.predict(X_train)"
      ],
      "execution_count": 0,
      "outputs": []
    },
    {
      "cell_type": "markdown",
      "metadata": {
        "id": "h-_yC294Jrda",
        "colab_type": "text"
      },
      "source": [
        "**Performance Evaluation:**"
      ]
    },
    {
      "cell_type": "code",
      "metadata": {
        "id": "bWbR7xx7Jrda",
        "colab_type": "code",
        "outputId": "365ae148-9d58-4cdb-d395-7fefb2b7f1e5",
        "colab": {
          "base_uri": "https://localhost:8080/",
          "height": 106
        }
      },
      "source": [
        "#computing the accuracy of the model performance\n",
        "acc_train_lr = lr.score(X_train, y_train)\n",
        "acc_test_lr = lr.score(X_test, y_test)\n",
        "\n",
        "#computing root mean squared error (RMSE)\n",
        "rmse_train_lr = np.sqrt(mean_squared_error(y_train, y_train_lr))\n",
        "rmse_test_lr = np.sqrt(mean_squared_error(y_test, y_test_lr))\n",
        "\n",
        "print(\"Linear Regression: Accuracy on training Data: {:.3f}\".format(acc_train_lr))\n",
        "print(\"Linear Regression: Accuracy on test Data: {:.3f}\".format(acc_test_lr))\n",
        "print('\\nLinear Regression: The RMSE of the training set is:', rmse_train_lr)\n",
        "print('Linear Regression: The RMSE of the testing set is:', rmse_test_lr)"
      ],
      "execution_count": 0,
      "outputs": [
        {
          "output_type": "stream",
          "text": [
            "Linear Regression: Accuracy on training Data: 0.288\n",
            "Linear Regression: Accuracy on test Data: 0.296\n",
            "\n",
            "Linear Regression: The RMSE of the training set is: 1.0129029956234739\n",
            "Linear Regression: The RMSE of the testing set is: 1.0369865239324312\n"
          ],
          "name": "stdout"
        }
      ]
    },
    {
      "cell_type": "markdown",
      "metadata": {
        "id": "gVSA11JTxnmx",
        "colab_type": "text"
      },
      "source": [
        "**Storing Results:**"
      ]
    },
    {
      "cell_type": "code",
      "metadata": {
        "id": "7mDHSdiBvdZo",
        "colab_type": "code",
        "colab": {}
      },
      "source": [
        "#storing the results. The below mentioned order of parameter passing is important.\n",
        "#Caution: Execute only once to avoid duplications.\n",
        "storeResults('Linear Regression', acc_train_lr, acc_test_lr, rmse_train_lr, rmse_test_lr)"
      ],
      "execution_count": 0,
      "outputs": []
    },
    {
      "cell_type": "markdown",
      "metadata": {
        "id": "zq4Dz3JPci6h",
        "colab_type": "text"
      },
      "source": [
        "**OBSERVATIONS:** The model preformance is not very good, but we can see that the scores on the training and test sets are very close together. This means we are likely underfitting, not overfitting."
      ]
    },
    {
      "cell_type": "markdown",
      "metadata": {
        "id": "hA_3RDwErqTY",
        "colab_type": "text"
      },
      "source": [
        "***Note to Remember:*** The most common ML algorithms, logistic regression and linear support vector machines\n",
        "(linear SVMs), are supervised classification algorithms, can't be applied on regression problems.\n",
        "Despite its name, LogisticRegression is a classification algorithm and not a regression algorithm, and it should not be confused with LinearRegression."
      ]
    },
    {
      "cell_type": "markdown",
      "metadata": {
        "id": "-MQRjFKlJrdk",
        "colab_type": "text"
      },
      "source": [
        "### **6.3. Decision Trees:** *Regression*\n",
        "\n",
        "&nbsp;&nbsp;&nbsp;&nbsp;&nbsp;&nbsp;&nbsp;&nbsp;&nbsp;&nbsp;&nbsp;&nbsp;&nbsp;&nbsp;Decision trees are widely used models for classification and regression tasks. Essentially, they learn a hierarchy of if/else questions, leading to a decision. Learning a decision tree means learning the sequence of if/else questions that gets us to the true answer most quickly.\n",
        " \n",
        "&nbsp;&nbsp;&nbsp;&nbsp;&nbsp;&nbsp;&nbsp;&nbsp;&nbsp;&nbsp;&nbsp;&nbsp;&nbsp;&nbsp;In the machine learning setting, these questions are called tests (not to be confused with the test set, which is the data we use to test to see how generalizable our model is). To build a tree, the algorithm searches over all possible tests and finds the one that is most informative about the target variable.\n"
      ]
    },
    {
      "cell_type": "code",
      "metadata": {
        "colab_type": "code",
        "outputId": "8e594a98-b936-496a-b788-a25f9d975844",
        "id": "Idsy3ifptXu3",
        "colab": {
          "base_uri": "https://localhost:8080/",
          "height": 124
        }
      },
      "source": [
        "# Decision Tree regression model \n",
        "from sklearn.tree import DecisionTreeRegressor\n",
        "\n",
        "# instantiate the model \n",
        "tree = DecisionTreeRegressor(max_depth=9)\n",
        "# fit the model \n",
        "tree.fit(X_train, y_train)"
      ],
      "execution_count": 0,
      "outputs": [
        {
          "output_type": "execute_result",
          "data": {
            "text/plain": [
              "DecisionTreeRegressor(ccp_alpha=0.0, criterion='mse', max_depth=9,\n",
              "                      max_features=None, max_leaf_nodes=None,\n",
              "                      min_impurity_decrease=0.0, min_impurity_split=None,\n",
              "                      min_samples_leaf=1, min_samples_split=2,\n",
              "                      min_weight_fraction_leaf=0.0, presort='deprecated',\n",
              "                      random_state=None, splitter='best')"
            ]
          },
          "metadata": {
            "tags": []
          },
          "execution_count": 49
        }
      ]
    },
    {
      "cell_type": "code",
      "metadata": {
        "colab_type": "code",
        "id": "R1tnPjILtXvL",
        "colab": {}
      },
      "source": [
        "#predicting the target value from the model for the samples\n",
        "y_test_tree = tree.predict(X_test)\n",
        "y_train_tree = tree.predict(X_train)"
      ],
      "execution_count": 0,
      "outputs": []
    },
    {
      "cell_type": "markdown",
      "metadata": {
        "colab_type": "text",
        "id": "RD-iEu_6tXvU"
      },
      "source": [
        "**Performance Evaluation:**"
      ]
    },
    {
      "cell_type": "code",
      "metadata": {
        "colab_type": "code",
        "outputId": "1cf1298c-bdab-4790-fe25-3152433384d1",
        "id": "ivncKP53tXvV",
        "colab": {
          "base_uri": "https://localhost:8080/",
          "height": 106
        }
      },
      "source": [
        "#computing the accuracy of the model performance\n",
        "acc_train_tree = tree.score(X_train, y_train)\n",
        "acc_test_tree = tree.score(X_test, y_test)\n",
        "\n",
        "#computing root mean squared error (RMSE)\n",
        "rmse_train_tree = np.sqrt(mean_squared_error(y_train, y_train_tree))\n",
        "rmse_test_tree = np.sqrt(mean_squared_error(y_test, y_test_tree))\n",
        "\n",
        "print(\"Decision Tree: Accuracy on training Data: {:.3f}\".format(acc_train_tree))\n",
        "print(\"Decision Tree: Accuracy on test Data: {:.3f}\".format(acc_test_tree))\n",
        "print('\\nDecision Tree: The RMSE of the training set is:', rmse_train_tree)\n",
        "print('Decision Tree: The RMSE of the testing set is:', rmse_test_tree)"
      ],
      "execution_count": 0,
      "outputs": [
        {
          "output_type": "stream",
          "text": [
            "Decision Tree: Accuracy on training Data: 0.967\n",
            "Decision Tree: Accuracy on test Data: 0.952\n",
            "\n",
            "Decision Tree: The RMSE of the training set is: 0.21965355867472552\n",
            "Decision Tree: The RMSE of the testing set is: 0.2721973198709374\n"
          ],
          "name": "stdout"
        }
      ]
    },
    {
      "cell_type": "markdown",
      "metadata": {
        "id": "TsOYSDm6xqEY",
        "colab_type": "text"
      },
      "source": [
        "**Storing Results:**"
      ]
    },
    {
      "cell_type": "code",
      "metadata": {
        "id": "6CqtNbqD3u2R",
        "colab_type": "code",
        "colab": {}
      },
      "source": [
        "#storing the results. The below mentioned order of parameter passing is important.\n",
        "#Caution: Execute only once to avoid duplications.\n",
        "storeResults('Decision Tree',acc_train_tree, acc_test_tree, rmse_train_tree, rmse_test_tree)"
      ],
      "execution_count": 0,
      "outputs": []
    },
    {
      "cell_type": "code",
      "metadata": {
        "id": "Lek9bHNfQt6p",
        "colab_type": "code",
        "outputId": "db36b969-5014-433a-e197-93364d10f7dc",
        "colab": {
          "base_uri": "https://localhost:8080/",
          "height": 442
        }
      },
      "source": [
        "#checking the feature improtance in the model\n",
        "plt.figure(figsize=(9,7))\n",
        "n_features = X_train.shape[1]\n",
        "plt.barh(range(n_features), tree.feature_importances_, align='center')\n",
        "plt.yticks(np.arange(n_features), X_train.columns)\n",
        "plt.xlabel(\"Feature importance\")\n",
        "plt.ylabel(\"Feature\")\n",
        "plt.show()"
      ],
      "execution_count": 0,
      "outputs": [
        {
          "output_type": "display_data",
          "data": {
            "image/png": "[encoded data removed]",
            "text/plain": [
              "<Figure size 648x504 with 1 Axes>"
            ]
          },
          "metadata": {
            "tags": [],
            "needs_background": "light"
          }
        }
      ]
    },
    {
      "cell_type": "markdown",
      "metadata": {
        "id": "aaiRdEnLNs12",
        "colab_type": "text"
      },
      "source": [
        "Evaluating training and testing set performance with different numbers of max_depth from 1 to 30. The plot shows the training and test set accuracy on the y-axis against the setting of max_depth on the x-axis."
      ]
    },
    {
      "cell_type": "code",
      "metadata": {
        "id": "1k1b0vgXPyYS",
        "colab_type": "code",
        "outputId": "4a907d07-715c-4e16-b4e6-cad24900d6fd",
        "colab": {
          "base_uri": "https://localhost:8080/",
          "height": 298
        }
      },
      "source": [
        "training_accuracy = []\n",
        "test_accuracy = []\n",
        "# try max_depth from 1 to 30\n",
        "depth = range(1, 31)\n",
        "for n in depth:\n",
        "  # fit the model\n",
        "  tree = DecisionTreeRegressor(max_depth=n)\n",
        "  tree.fit(X_train, y_train)\n",
        "  # record training set accuracy\n",
        "  training_accuracy.append(tree.score(X_train, y_train))\n",
        "  # record generalization accuracy\n",
        "  test_accuracy.append(tree.score(X_test, y_test))\n",
        "\n",
        "#plotting the training & testing accuracy for max_depth from 1 to 30\n",
        "plt.plot(depth, training_accuracy, label=\"training accuracy\")\n",
        "plt.plot(depth, test_accuracy, label=\"test accuracy\")\n",
        "plt.ylabel(\"Accuracy\")  \n",
        "plt.xlabel(\"max_depth\")\n",
        "plt.legend()"
      ],
      "execution_count": 0,
      "outputs": [
        {
          "output_type": "execute_result",
          "data": {
            "text/plain": [
              "<matplotlib.legend.Legend at 0x7ff69ca5fe48>"
            ]
          },
          "metadata": {
            "tags": []
          },
          "execution_count": 54
        },
        {
          "output_type": "display_data",
          "data": {
            "image/png": "[encoded data removed]",
            "text/plain": [
              "<Figure size 432x288 with 1 Axes>"
            ]
          },
          "metadata": {
            "tags": [],
            "needs_background": "light"
          }
        }
      ]
    },
    {
      "cell_type": "markdown",
      "metadata": {
        "colab_type": "text",
        "id": "q2Pf85a4tXvm"
      },
      "source": [
        "**OBSERVATIONS:** The model preformance is gradually increased on incresing the max_depth parameter. But after max_depth = 9, the model overfits. So the model is considered with max_depth = 9 which has an accuracy of 95.2%."
      ]
    },
    {
      "cell_type": "markdown",
      "metadata": {
        "id": "2JkVQ5-J5C3x",
        "colab_type": "text"
      },
      "source": [
        "### **6.4. Random Forest:** *Ensemble of Decision Trees*\n",
        "\n",
        "&nbsp;&nbsp;&nbsp;&nbsp;&nbsp;&nbsp;&nbsp;&nbsp;&nbsp;&nbsp;&nbsp;&nbsp;&nbsp;&nbsp;Random forests for regression and classification are currently among the most widely used machine learning methods.A random forest is essentially a collection of decision trees, where each tree is slightly different from the others. The idea behind random forests is that each tree might do a relatively good job of predicting, but will likely overfit on part of the data.  \n",
        "\n",
        "&nbsp;&nbsp;&nbsp;&nbsp;&nbsp;&nbsp;&nbsp;&nbsp;&nbsp;&nbsp;&nbsp;&nbsp;&nbsp;&nbsp;If we build many trees, all of which work well and overfit in different ways, we can reduce the amount of overfitting by averaging their results. To build a random forest model, you need to decide on the number of trees to build (the n_estimators parameter of RandomForestRegressor or RandomForestClassifier). They are very powerful, often work well without heavy tuning of the parameters, and don’t require scaling of the data."
      ]
    },
    {
      "cell_type": "code",
      "metadata": {
        "id": "xUp8ngaKJrdn",
        "colab_type": "code",
        "outputId": "4bff8bca-ef8f-497b-ec53-87b4b7202990",
        "colab": {
          "base_uri": "https://localhost:8080/",
          "height": 141
        }
      },
      "source": [
        "# Random Forest regression model\n",
        "from sklearn.ensemble import RandomForestRegressor\n",
        "\n",
        "# instantiate the model\n",
        "forest = RandomForestRegressor(max_depth=9)\n",
        "\n",
        "# fit the model \n",
        "forest.fit(X_train, y_train)"
      ],
      "execution_count": 0,
      "outputs": [
        {
          "output_type": "execute_result",
          "data": {
            "text/plain": [
              "RandomForestRegressor(bootstrap=True, ccp_alpha=0.0, criterion='mse',\n",
              "                      max_depth=9, max_features='auto', max_leaf_nodes=None,\n",
              "                      max_samples=None, min_impurity_decrease=0.0,\n",
              "                      min_impurity_split=None, min_samples_leaf=1,\n",
              "                      min_samples_split=2, min_weight_fraction_leaf=0.0,\n",
              "                      n_estimators=100, n_jobs=None, oob_score=False,\n",
              "                      random_state=None, verbose=0, warm_start=False)"
            ]
          },
          "metadata": {
            "tags": []
          },
          "execution_count": 55
        }
      ]
    },
    {
      "cell_type": "code",
      "metadata": {
        "id": "HG2hMUFSJrdq",
        "colab_type": "code",
        "colab": {}
      },
      "source": [
        "#predicting the target value from the model for the samples\n",
        "y_test_forest = forest.predict(X_test)\n",
        "y_train_forest = forest.predict(X_train)"
      ],
      "execution_count": 0,
      "outputs": []
    },
    {
      "cell_type": "markdown",
      "metadata": {
        "colab_type": "text",
        "id": "xYFpg7Z2wWU0"
      },
      "source": [
        "**Performance Evaluation:**"
      ]
    },
    {
      "cell_type": "code",
      "metadata": {
        "colab_type": "code",
        "id": "6fkhNFmKwWU3",
        "outputId": "f5e4a93e-6367-4cdf-d843-097bfbd39a88",
        "colab": {
          "base_uri": "https://localhost:8080/",
          "height": 106
        }
      },
      "source": [
        "#computing the accuracy of the model performance\n",
        "acc_train_forest = forest.score(X_train, y_train)\n",
        "acc_test_forest = forest.score(X_test, y_test)\n",
        "\n",
        "#computing root mean squared error (RMSE)\n",
        "rmse_train_forest = np.sqrt(mean_squared_error(y_train, y_train_forest))\n",
        "rmse_test_forest = np.sqrt(mean_squared_error(y_test, y_test_forest))\n",
        "\n",
        "print(\"Random Forest: Accuracy on training Data: {:.3f}\".format(acc_train_forest))\n",
        "print(\"Random Forest: Accuracy on test Data: {:.3f}\".format(acc_test_forest))\n",
        "print('\\nRandom Forest: The RMSE of the training set is: ', rmse_train_forest)\n",
        "print('Random Forest: The RMSE of the testing set is: ', rmse_test_forest)"
      ],
      "execution_count": 0,
      "outputs": [
        {
          "output_type": "stream",
          "text": [
            "Random Forest: Accuracy on training Data: 0.987\n",
            "Random Forest: Accuracy on test Data: 0.980\n",
            "\n",
            "Random Forest: The RMSE of the training set is:  0.13685591853666557\n",
            "Random Forest: The RMSE of the testing set is:  0.17599115331746523\n"
          ],
          "name": "stdout"
        }
      ]
    },
    {
      "cell_type": "markdown",
      "metadata": {
        "id": "95yjoQaExuCr",
        "colab_type": "text"
      },
      "source": [
        "**Storing Results:**"
      ]
    },
    {
      "cell_type": "code",
      "metadata": {
        "id": "lvLg6p-swWOG",
        "colab_type": "code",
        "colab": {}
      },
      "source": [
        "#storing the results. The below mentioned order of parameter passing is important.\n",
        "#Caution: Execute only once to avoid duplications.\n",
        "storeResults('Random Forest',acc_train_forest, acc_test_forest, rmse_train_forest, rmse_test_forest)"
      ],
      "execution_count": 0,
      "outputs": []
    },
    {
      "cell_type": "markdown",
      "metadata": {
        "id": "aMr2m2NCN_L_",
        "colab_type": "text"
      },
      "source": [
        "Evaluating training and testing set performance with different numbers of max_depth from 1 to 30. The plot shows the training and test set accuracy on the y-axis against the setting of max_depth on the x-axis."
      ]
    },
    {
      "cell_type": "code",
      "metadata": {
        "id": "DTk19lnNfs9w",
        "colab_type": "code",
        "outputId": "165f7ecd-6057-4bfd-8850-221a070901dd",
        "colab": {
          "base_uri": "https://localhost:8080/",
          "height": 298
        }
      },
      "source": [
        "training_accuracy = []\n",
        "test_accuracy = []\n",
        "# try max_depth from 1 to 30\n",
        "depth = range(1, 31)\n",
        "for n in depth:\n",
        "  # fit the model\n",
        "  forest = RandomForestRegressor(max_depth=n)\n",
        "  forest.fit(X_train, y_train)\n",
        "  # record training set accuracy\n",
        "  training_accuracy.append(forest.score(X_train, y_train))\n",
        "  # record generalization accuracy\n",
        "  test_accuracy.append(forest.score(X_test, y_test))\n",
        "\n",
        "#plotting the training & testing accuracy for max_depth from 1 to 30\n",
        "plt.plot(depth, training_accuracy, label=\"training accuracy\")\n",
        "plt.plot(depth, test_accuracy, label=\"test accuracy\")\n",
        "plt.ylabel(\"Accuracy\")  \n",
        "plt.xlabel(\"max_depth\")\n",
        "plt.legend()"
      ],
      "execution_count": 0,
      "outputs": [
        {
          "output_type": "execute_result",
          "data": {
            "text/plain": [
              "<matplotlib.legend.Legend at 0x7ff69845b4a8>"
            ]
          },
          "metadata": {
            "tags": []
          },
          "execution_count": 59
        },
        {
          "output_type": "display_data",
          "data": {
            "image/png": "[encoded data removed]",
            "text/plain": [
              "<Figure size 432x288 with 1 Axes>"
            ]
          },
          "metadata": {
            "tags": [],
            "needs_background": "light"
          }
        }
      ]
    },
    {
      "cell_type": "markdown",
      "metadata": {
        "id": "w7cBRwEKzFeP",
        "colab_type": "text"
      },
      "source": [
        "**OBSERVATIONS:** The random forest gives us an accuracy of 99.4%, better than the linear models or a single decision tree, without tuning any parameters. But this might also be a case of overfitting. So, the prarameter are tuned and the finalized model has an accuracy of 98% which is better than the linear & decision tree models."
      ]
    },
    {
      "cell_type": "markdown",
      "metadata": {
        "id": "PspxWf3v7n1C",
        "colab_type": "text"
      },
      "source": [
        "### **6.5. Gradient Boosted Regression Trees (gradient boosting machines):** *Ensemble of Decision Trees*\n",
        "\n",
        "&nbsp;&nbsp;&nbsp;&nbsp;&nbsp;&nbsp;&nbsp;&nbsp;&nbsp;&nbsp;&nbsp;&nbsp;&nbsp;&nbsp;The gradient boosted regression tree is another ensemble method that combines multiple decision trees to create a more powerful model. Despite the “regression” in the name, these models can be used for regression and classification. In contrast to the\n",
        "random forest approach, gradient boosting works by building trees in a serial manner, where each tree tries to correct the mistakes of the previous one."
      ]
    },
    {
      "cell_type": "code",
      "metadata": {
        "colab_type": "code",
        "id": "MjfAK_4m0tqM",
        "outputId": "bd2b0b74-e56f-4ed8-d848-2b64dcb36133",
        "colab": {
          "base_uri": "https://localhost:8080/",
          "height": 177
        }
      },
      "source": [
        "# Gradient Boosted Regression Trees model\n",
        "from sklearn.ensemble import GradientBoostingRegressor\n",
        "\n",
        "# instantiate the model\n",
        "gbrt = GradientBoostingRegressor(learning_rate=0.5)\n",
        "\n",
        "# fit the model \n",
        "gbrt.fit(X_train, y_train)"
      ],
      "execution_count": 0,
      "outputs": [
        {
          "output_type": "execute_result",
          "data": {
            "text/plain": [
              "GradientBoostingRegressor(alpha=0.9, ccp_alpha=0.0, criterion='friedman_mse',\n",
              "                          init=None, learning_rate=0.5, loss='ls', max_depth=3,\n",
              "                          max_features=None, max_leaf_nodes=None,\n",
              "                          min_impurity_decrease=0.0, min_impurity_split=None,\n",
              "                          min_samples_leaf=1, min_samples_split=2,\n",
              "                          min_weight_fraction_leaf=0.0, n_estimators=100,\n",
              "                          n_iter_no_change=None, presort='deprecated',\n",
              "                          random_state=None, subsample=1.0, tol=0.0001,\n",
              "                          validation_fraction=0.1, verbose=0, warm_start=False)"
            ]
          },
          "metadata": {
            "tags": []
          },
          "execution_count": 60
        }
      ]
    },
    {
      "cell_type": "code",
      "metadata": {
        "colab_type": "code",
        "id": "R0FJPWES0tqb",
        "colab": {}
      },
      "source": [
        "#predicting the target value from the model for the samples\n",
        "y_test_gbrt = gbrt.predict(X_test)\n",
        "y_train_gbrt = gbrt.predict(X_train)"
      ],
      "execution_count": 0,
      "outputs": []
    },
    {
      "cell_type": "markdown",
      "metadata": {
        "colab_type": "text",
        "id": "l46pxS_m0tqf"
      },
      "source": [
        "**Performance Evaluation:**"
      ]
    },
    {
      "cell_type": "code",
      "metadata": {
        "colab_type": "code",
        "id": "xTyvQhXH0tqg",
        "outputId": "6941b32c-ef95-4184-9cc5-0f8754cee7f7",
        "colab": {
          "base_uri": "https://localhost:8080/",
          "height": 106
        }
      },
      "source": [
        "#computing the accuracy of the model performance\n",
        "acc_train_gbrt = gbrt.score(X_train, y_train)\n",
        "acc_test_gbrt = gbrt.score(X_test, y_test)\n",
        "\n",
        "#computing root mean squared error (RMSE)\n",
        "rmse_train_gbrt = np.sqrt(mean_squared_error(y_train, y_train_gbrt))\n",
        "rmse_test_gbrt = np.sqrt(mean_squared_error(y_test, y_test_gbrt))\n",
        "\n",
        "print(\"Gradient Boosted Regression Trees: Accuracy on training Data: {:.3f}\".format(acc_train_gbrt))\n",
        "print(\"Gradient Boosted Regression Trees: Accuracy on test Data: {:.3f}\".format(acc_test_gbrt))\n",
        "print('\\nGradient Boosted Regression Trees: The RMSE of the training set is: ', rmse_train_gbrt)\n",
        "print('Gradient Boosted Regression Trees: The RMSE of the testing set is: ', rmse_test_gbrt)"
      ],
      "execution_count": 0,
      "outputs": [
        {
          "output_type": "stream",
          "text": [
            "Gradient Boosted Regression Trees: Accuracy on training Data: 0.988\n",
            "Gradient Boosted Regression Trees: Accuracy on test Data: 0.983\n",
            "\n",
            "Gradient Boosted Regression Trees: The RMSE of the training set is:  0.13022009023453276\n",
            "Gradient Boosted Regression Trees: The RMSE of the testing set is:  0.15921513428843745\n"
          ],
          "name": "stdout"
        }
      ]
    },
    {
      "cell_type": "markdown",
      "metadata": {
        "id": "M8Sjoz4hxwdw",
        "colab_type": "text"
      },
      "source": [
        "**Storing Results:**"
      ]
    },
    {
      "cell_type": "code",
      "metadata": {
        "id": "ib6p92Usxz_F",
        "colab_type": "code",
        "colab": {}
      },
      "source": [
        "#storing the results. The below mentioned order of parameter passing is important.\n",
        "#Caution: Execute only once to avoid duplications.\n",
        "storeResults('Gradient Boosted Regression',acc_train_gbrt, acc_test_gbrt, rmse_train_gbrt, rmse_test_gbrt)"
      ],
      "execution_count": 0,
      "outputs": []
    },
    {
      "cell_type": "markdown",
      "metadata": {
        "id": "LCJGGfodOHc8",
        "colab_type": "text"
      },
      "source": [
        "Evaluating training and testing set performance with different numbers of learning_rate from 0.1 to 0.9. The plot shows the training and test set accuracy on the y-axis against the setting of learning_rate on the x-axis."
      ]
    },
    {
      "cell_type": "code",
      "metadata": {
        "id": "g9v7fPalsyes",
        "colab_type": "code",
        "outputId": "e3954105-40e0-4424-c5c2-164f0b8708bc",
        "colab": {
          "base_uri": "https://localhost:8080/",
          "height": 300
        }
      },
      "source": [
        "training_accuracy = []\n",
        "test_accuracy = []\n",
        "r = []\n",
        "# try learning_rate from 0.1 to 0.9\n",
        "rate = range(1, 10)\n",
        "for n in rate:\n",
        "  # fit the model\n",
        "  gbrt = GradientBoostingRegressor(learning_rate=n*0.1)\n",
        "  gbrt.fit(X_train, y_train)\n",
        "  r.append(n*0.1)\n",
        "  # record training set accuracy\n",
        "  training_accuracy.append(gbrt.score(X_train, y_train))\n",
        "  # record generalization accuracy\n",
        "  test_accuracy.append(gbrt.score(X_test, y_test))\n",
        "\n",
        "#plotting the training & testing accuracy for learning_rate from 0.1 to 0.9\n",
        "plt.plot(r, training_accuracy, label=\"training accuracy\")\n",
        "plt.plot(r, test_accuracy, label=\"test accuracy\")\n",
        "plt.ylabel(\"Accuracy\")  \n",
        "plt.xlabel(\"learning_rate\")\n",
        "plt.legend()"
      ],
      "execution_count": 0,
      "outputs": [
        {
          "output_type": "execute_result",
          "data": {
            "text/plain": [
              "<matplotlib.legend.Legend at 0x7ff69826ba58>"
            ]
          },
          "metadata": {
            "tags": []
          },
          "execution_count": 64
        },
        {
          "output_type": "display_data",
          "data": {
            "image/png": "[encoded data removed]",
            "text/plain": [
              "<Figure size 432x288 with 1 Axes>"
            ]
          },
          "metadata": {
            "tags": [],
            "needs_background": "light"
          }
        }
      ]
    },
    {
      "cell_type": "markdown",
      "metadata": {
        "colab_type": "text",
        "id": "vh2Hv9Pt0tqm"
      },
      "source": [
        "**OBSERVATIONS:** The model didnt overfit when trained without tuning any parameters. The model accuracy obtained is 94.3%. \n",
        "\n",
        "Hyper tuning is performed for Gradient Boosted Regression Tree model. The tuned parameters are learning_rate, n_estimators & max_depth. Even upon changing the n_estimators with the combination of other two, there is no change in the model performance. \n",
        "\n",
        "So, the default value of n_estimators is taken and the other two parameters are tuned. The otimized Gradient Boosted model gives us an accuracy of 99.2%, with parameter tuning."
      ]
    },
    {
      "cell_type": "markdown",
      "metadata": {
        "colab_type": "text",
        "id": "DC-KHuGHPvXd"
      },
      "source": [
        "### **6.6. Multilayer Perceptrons (MLPs):** *Deep Learning*\n",
        "\n",
        "&nbsp;&nbsp;&nbsp;&nbsp;&nbsp;&nbsp;&nbsp;&nbsp;&nbsp;&nbsp;&nbsp;&nbsp;&nbsp;&nbsp;Multilayer perceptrons (MLPs) are\n",
        "also known as (vanilla) feed-forward neural networks, or sometimes just neural networks. Multilayer perceptrons can be applied for both classification and regression problems. \n",
        "\n",
        "&nbsp;&nbsp;&nbsp;&nbsp;&nbsp;&nbsp;&nbsp;&nbsp;&nbsp;&nbsp;&nbsp;&nbsp;&nbsp;&nbsp;MLPs can be viewed as generalizations of linear models that perform multiple stages of processing to come to a decision."
      ]
    },
    {
      "cell_type": "code",
      "metadata": {
        "colab_type": "code",
        "id": "6neV_chFPvXg",
        "outputId": "ce9fe1b5-88c3-481f-836a-62d08bcbf1ab",
        "colab": {
          "base_uri": "https://localhost:8080/",
          "height": 159
        }
      },
      "source": [
        "# Multilayer Perceptrons model\n",
        "from sklearn.neural_network import MLPRegressor\n",
        "\n",
        "# instantiate the model\n",
        "mlp = MLPRegressor(hidden_layer_sizes=([100,100]))\n",
        "\n",
        "# fit the model \n",
        "mlp.fit(X_train, y_train)"
      ],
      "execution_count": 0,
      "outputs": [
        {
          "output_type": "execute_result",
          "data": {
            "text/plain": [
              "MLPRegressor(activation='relu', alpha=0.0001, batch_size='auto', beta_1=0.9,\n",
              "             beta_2=0.999, early_stopping=False, epsilon=1e-08,\n",
              "             hidden_layer_sizes=[100, 100], learning_rate='constant',\n",
              "             learning_rate_init=0.001, max_fun=15000, max_iter=200,\n",
              "             momentum=0.9, n_iter_no_change=10, nesterovs_momentum=True,\n",
              "             power_t=0.5, random_state=None, shuffle=True, solver='adam',\n",
              "             tol=0.0001, validation_fraction=0.1, verbose=False,\n",
              "             warm_start=False)"
            ]
          },
          "metadata": {
            "tags": []
          },
          "execution_count": 65
        }
      ]
    },
    {
      "cell_type": "code",
      "metadata": {
        "colab_type": "code",
        "id": "lIh16U-DPvXw",
        "colab": {}
      },
      "source": [
        "#predicting the target value from the model for the samples\n",
        "y_test_mlp = mlp.predict(X_test)\n",
        "y_train_mlp = mlp.predict(X_train)"
      ],
      "execution_count": 0,
      "outputs": []
    },
    {
      "cell_type": "markdown",
      "metadata": {
        "colab_type": "text",
        "id": "rwDQRNsMPvX7"
      },
      "source": [
        "**Performance Evaluation:**"
      ]
    },
    {
      "cell_type": "code",
      "metadata": {
        "colab_type": "code",
        "id": "Gp33bgDAPvX8",
        "outputId": "84750f91-bfda-45c3-a27c-97715c619543",
        "colab": {
          "base_uri": "https://localhost:8080/",
          "height": 106
        }
      },
      "source": [
        "#computing the accuracy of the model performance\n",
        "acc_train_mlp = mlp.score(X_train, y_train)\n",
        "acc_test_mlp = mlp.score(X_test, y_test)\n",
        "\n",
        "#computing root mean squared error (RMSE)\n",
        "rmse_train_mlp = np.sqrt(mean_squared_error(y_train, y_train_mlp))\n",
        "rmse_test_mlp = np.sqrt(mean_squared_error(y_test, y_test_mlp))\n",
        "\n",
        "print(\"Multilayer Perceptron Regression: Accuracy on training Data: {:.3f}\".format(acc_train_mlp))\n",
        "print(\"Multilayer Perceptron Regression: Accuracy on test Data: {:.3f}\".format(acc_test_mlp))\n",
        "print('\\nMultilayer Perceptron Regression: The RMSE of the training set is: ', rmse_train_mlp)\n",
        "print('Multilayer Perceptron Regression: The RMSE of the testing set is: ', rmse_test_mlp)"
      ],
      "execution_count": 0,
      "outputs": [
        {
          "output_type": "stream",
          "text": [
            "Multilayer Perceptron Regression: Accuracy on training Data: 0.926\n",
            "Multilayer Perceptron Regression: Accuracy on test Data: 0.928\n",
            "\n",
            "Multilayer Perceptron Regression: The RMSE of the training set is:  0.32573520409172046\n",
            "Multilayer Perceptron Regression: The RMSE of the testing set is:  0.3308231509782722\n"
          ],
          "name": "stdout"
        }
      ]
    },
    {
      "cell_type": "markdown",
      "metadata": {
        "colab_type": "text",
        "id": "AW_f1GSnSgQx"
      },
      "source": [
        "**Storing Results:**"
      ]
    },
    {
      "cell_type": "code",
      "metadata": {
        "colab_type": "code",
        "id": "x-kGk0AeSgQ4",
        "colab": {}
      },
      "source": [
        "#storing the results. The below mentioned order of parameter passing is important.\n",
        "#Caution: Execute only once to avoid duplications.\n",
        "storeResults('Multilayer Perceptron Regression',acc_train_mlp, acc_test_mlp, rmse_train_mlp, rmse_test_mlp)"
      ],
      "execution_count": 0,
      "outputs": []
    },
    {
      "cell_type": "markdown",
      "metadata": {
        "colab_type": "text",
        "id": "kFcdLqStPvYR"
      },
      "source": [
        "**OBSERVATIONS:** The model didnt overfit when trained without tuning any parameters. But, the model accuracy obtained is 89.2%. \n",
        "\n",
        "So, hyperparameter tuning is performed for the model. The tuned parameters are number of hidden layers and the hidden_units of each layer with default values of alpha. The otimized Gradient Boosted model gives us an accuracy of 92.8%, with parameter tuning."
      ]
    },
    {
      "cell_type": "markdown",
      "metadata": {
        "id": "OwtQg-D0PoSa",
        "colab_type": "text"
      },
      "source": [
        "### **6.7. XGBoost Regression:**\n",
        "\n",
        "&nbsp;&nbsp;&nbsp;&nbsp;&nbsp;&nbsp;&nbsp;&nbsp;&nbsp;&nbsp;&nbsp;&nbsp;&nbsp;&nbsp;XGBoost is one of the most popular machine learning algorithms these days. XGBoost stands for eXtreme Gradient Boosting. Regardless of the type of prediction task at hand; regression or classification. XGBoost is an implementation of gradient boosted decision trees designed for speed and performance."
      ]
    },
    {
      "cell_type": "code",
      "metadata": {
        "id": "a9oA4gSOy0pQ",
        "colab_type": "code",
        "outputId": "1447fd32-8efc-4cad-cc31-3056eea9aadc",
        "colab": {
          "base_uri": "https://localhost:8080/",
          "height": 159
        }
      },
      "source": [
        "#XGBoost Regression model\n",
        "from xgboost import XGBRegressor\n",
        "\n",
        "# instantiate the model\n",
        "xgb = XGBRegressor(learning_rate=0.2,max_depth=4)\n",
        "#fit the model\n",
        "xgb.fit(X_train, y_train)"
      ],
      "execution_count": 0,
      "outputs": [
        {
          "output_type": "stream",
          "text": [
            "[06:12:01] WARNING: /workspace/src/objective/regression_obj.cu:152: reg:linear is now deprecated in favor of reg:squarederror.\n"
          ],
          "name": "stdout"
        },
        {
          "output_type": "execute_result",
          "data": {
            "text/plain": [
              "XGBRegressor(base_score=0.5, booster='gbtree', colsample_bylevel=1,\n",
              "             colsample_bynode=1, colsample_bytree=1, gamma=0,\n",
              "             importance_type='gain', learning_rate=0.2, max_delta_step=0,\n",
              "             max_depth=4, min_child_weight=1, missing=None, n_estimators=100,\n",
              "             n_jobs=1, nthread=None, objective='reg:linear', random_state=0,\n",
              "             reg_alpha=0, reg_lambda=1, scale_pos_weight=1, seed=None,\n",
              "             silent=None, subsample=1, verbosity=1)"
            ]
          },
          "metadata": {
            "tags": []
          },
          "execution_count": 69
        }
      ]
    },
    {
      "cell_type": "code",
      "metadata": {
        "id": "Fs_oMGV8XEG0",
        "colab_type": "code",
        "colab": {}
      },
      "source": [
        "#predicting the target value from the model for the samples\n",
        "y_test_xgb = xgb.predict(X_test)\n",
        "y_train_xgb = xgb.predict(X_train)"
      ],
      "execution_count": 0,
      "outputs": []
    },
    {
      "cell_type": "markdown",
      "metadata": {
        "id": "Ge4aLXoe1Vkg",
        "colab_type": "text"
      },
      "source": [
        "**Performance Evaluation:**"
      ]
    },
    {
      "cell_type": "code",
      "metadata": {
        "id": "BsJE7kgXy0lV",
        "colab_type": "code",
        "outputId": "698eca21-edd6-4039-f359-b1a0cae7d630",
        "colab": {
          "base_uri": "https://localhost:8080/",
          "height": 106
        }
      },
      "source": [
        "#computing the accuracy of the model performance\n",
        "acc_train_xgb = xgb.score(X_train, y_train)\n",
        "acc_test_xgb = xgb.score(X_test, y_test)\n",
        "\n",
        "#computing root mean squared error (RMSE)\n",
        "rmse_train_xgb = np.sqrt(mean_squared_error(y_train, y_train_xgb))\n",
        "rmse_test_xgb = np.sqrt(mean_squared_error(y_test, y_test_xgb))\n",
        "\n",
        "print(\"XGBoost Regression: Accuracy on training Data: {:.3f}\".format(acc_train_xgb))\n",
        "print(\"XGBoost Regression: Accuracy on test Data: {:.3f}\".format(acc_test_xgb))\n",
        "print('\\nXGBoost Regression: The RMSE of the training set is: ', rmse_train_xgb)\n",
        "print('XGBoost Regression: The RMSE of the testing set is: ', rmse_test_xgb)"
      ],
      "execution_count": 0,
      "outputs": [
        {
          "output_type": "stream",
          "text": [
            "XGBoost Regression: Accuracy on training Data: 0.993\n",
            "XGBoost Regression: Accuracy on test Data: 0.988\n",
            "\n",
            "XGBoost Regression: The RMSE of the training set is:  0.09961280401594837\n",
            "XGBoost Regression: The RMSE of the testing set is:  0.13387205642051989\n"
          ],
          "name": "stdout"
        }
      ]
    },
    {
      "cell_type": "markdown",
      "metadata": {
        "colab_type": "text",
        "id": "5-4kaNx_Uk-3"
      },
      "source": [
        "**Storing Results:**"
      ]
    },
    {
      "cell_type": "code",
      "metadata": {
        "colab_type": "code",
        "id": "1kKbUf7rUk-4",
        "colab": {}
      },
      "source": [
        "#storing the results. The below mentioned order of parameter passing is important.\n",
        "#Caution: Execute only once to avoid duplications.\n",
        "storeResults('XGBoost Regression',acc_train_xgb, acc_test_xgb, rmse_train_xgb, rmse_test_xgb)"
      ],
      "execution_count": 0,
      "outputs": []
    },
    {
      "cell_type": "markdown",
      "metadata": {
        "id": "Z2iN8S91ng02",
        "colab_type": "text"
      },
      "source": [
        "**OBSERVATIONS:** Upon tuning the hyperparameter, the model performance increased, and the resulting model performance is 98.8%."
      ]
    },
    {
      "cell_type": "markdown",
      "metadata": {
        "id": "PbA1EnvMg1fO",
        "colab_type": "text"
      },
      "source": [
        "### **6.8. Bagging Regression:**\n",
        "\n",
        "&nbsp;&nbsp;&nbsp;&nbsp;&nbsp;&nbsp;&nbsp;&nbsp;&nbsp;&nbsp;&nbsp;&nbsp;&nbsp;&nbsp;Bagging Regressor is an ensemble estimator which fits base estimator on each random subset of the Train dataset and then aggregates their individual predictions to form a final prediction using voting or averaging method. Here the base estimator is Decision Trees."
      ]
    },
    {
      "cell_type": "code",
      "metadata": {
        "id": "26BxiTsUZkPi",
        "colab_type": "code",
        "outputId": "d88ad551-c3ea-4633-b741-b364a7df8664",
        "colab": {
          "base_uri": "https://localhost:8080/",
          "height": 88
        }
      },
      "source": [
        "#Bagging Regression model\n",
        "from sklearn.ensemble import BaggingRegressor\n",
        "\n",
        "#instantiate the model\n",
        "br = BaggingRegressor(n_estimators=1)\n",
        "\n",
        "#fit the model\n",
        "br.fit(X_train, y_train)"
      ],
      "execution_count": 0,
      "outputs": [
        {
          "output_type": "execute_result",
          "data": {
            "text/plain": [
              "BaggingRegressor(base_estimator=None, bootstrap=True, bootstrap_features=False,\n",
              "                 max_features=1.0, max_samples=1.0, n_estimators=1, n_jobs=None,\n",
              "                 oob_score=False, random_state=None, verbose=0,\n",
              "                 warm_start=False)"
            ]
          },
          "metadata": {
            "tags": []
          },
          "execution_count": 73
        }
      ]
    },
    {
      "cell_type": "code",
      "metadata": {
        "id": "7YHOZCaSZkN3",
        "colab_type": "code",
        "colab": {}
      },
      "source": [
        "#predicting the target value from the model for the samples\n",
        "y_test_br = br.predict(X_test)\n",
        "y_train_br = br.predict(X_train)"
      ],
      "execution_count": 0,
      "outputs": []
    },
    {
      "cell_type": "markdown",
      "metadata": {
        "id": "Z-HEfxzz1Z46",
        "colab_type": "text"
      },
      "source": [
        "**Performance Evaluation:**"
      ]
    },
    {
      "cell_type": "code",
      "metadata": {
        "id": "nK9AEyyxZkJ7",
        "colab_type": "code",
        "outputId": "10b6174a-38a4-44af-a19b-e764deec9801",
        "colab": {
          "base_uri": "https://localhost:8080/",
          "height": 106
        }
      },
      "source": [
        "#computing the accuracy of the model performance\n",
        "acc_train_br = br.score(X_train, y_train)\n",
        "acc_test_br = br.score(X_test, y_test)\n",
        "\n",
        "#computing root mean squared error (RMSE)\n",
        "rmse_train_br = np.sqrt(mean_squared_error(y_train, y_train_br))\n",
        "rmse_test_br = np.sqrt(mean_squared_error(y_test, y_test_br))\n",
        "\n",
        "print(\"Bagging Regression: Accuracy on training Data: {:.3f}\".format(acc_train_br))\n",
        "print(\"Bagging Regression: Accuracy on test Data: {:.3f}\".format(acc_test_br))\n",
        "print('\\nBagging Regression: The RMSE of the training set is: ', rmse_train_br)\n",
        "print('Bagging Regression: The RMSE of the testing set is: ', rmse_test_br)"
      ],
      "execution_count": 0,
      "outputs": [
        {
          "output_type": "stream",
          "text": [
            "Bagging Regression: Accuracy on training Data: 0.994\n",
            "Bagging Regression: Accuracy on test Data: 0.982\n",
            "\n",
            "Bagging Regression: The RMSE of the training set is:  0.09617435482332859\n",
            "Bagging Regression: The RMSE of the testing set is:  0.16567700949308659\n"
          ],
          "name": "stdout"
        }
      ]
    },
    {
      "cell_type": "markdown",
      "metadata": {
        "id": "BPg6BTByaXaF",
        "colab_type": "text"
      },
      "source": [
        "**Storing Results:**"
      ]
    },
    {
      "cell_type": "code",
      "metadata": {
        "id": "5nSPH05eZkE1",
        "colab_type": "code",
        "colab": {}
      },
      "source": [
        "#storing the results. The below mentioned order of parameter passing is important.\n",
        "#Caution: Execute only once to avoid duplications.\n",
        "storeResults('Bagging Regression',acc_train_br, acc_test_br, rmse_train_br, rmse_test_br)"
      ],
      "execution_count": 0,
      "outputs": []
    },
    {
      "cell_type": "markdown",
      "metadata": {
        "id": "jSc28YhbQaQR",
        "colab_type": "text"
      },
      "source": [
        "Evaluating training and testing set performance with different numbers of n_estimators from 1 to 50. The plot shows the training and test set accuracy on the y-axis against the setting of n_estimators on the x-axis."
      ]
    },
    {
      "cell_type": "code",
      "metadata": {
        "id": "CWAn_eVKZkDw",
        "colab_type": "code",
        "outputId": "5847446d-da72-46e9-90b9-5bae9846521d",
        "colab": {
          "base_uri": "https://localhost:8080/",
          "height": 300
        }
      },
      "source": [
        "training_accuracy = []\n",
        "test_accuracy = []\n",
        "# try n_estimators from 1 to 50\n",
        "est = range(1, 51)\n",
        "for n in est:\n",
        "  # fit the model\n",
        "  br = BaggingRegressor(n_estimators=n)\n",
        "  br.fit(X_train, y_train)\n",
        "  # record training set accuracy\n",
        "  training_accuracy.append(br.score(X_train, y_train))\n",
        "  # record generalization accuracy\n",
        "  test_accuracy.append(br.score(X_test, y_test))\n",
        "\n",
        "#plotting the training & testing accuracy for n_estimators from 1 to 50\n",
        "plt.plot(est, training_accuracy, label=\"training accuracy\")\n",
        "plt.plot(est, test_accuracy, label=\"test accuracy\")\n",
        "plt.ylabel(\"Accuracy\")  \n",
        "plt.xlabel(\"n_estimators\")\n",
        "plt.legend()"
      ],
      "execution_count": 0,
      "outputs": [
        {
          "output_type": "execute_result",
          "data": {
            "text/plain": [
              "<matplotlib.legend.Legend at 0x7ff69682f208>"
            ]
          },
          "metadata": {
            "tags": []
          },
          "execution_count": 77
        },
        {
          "output_type": "display_data",
          "data": {
            "image/png": "[encoded data removed]",
            "text/plain": [
              "<Figure size 432x288 with 1 Axes>"
            ]
          },
          "metadata": {
            "tags": [],
            "needs_background": "light"
          }
        }
      ]
    },
    {
      "cell_type": "markdown",
      "metadata": {
        "id": "5I0z2kZavhSU",
        "colab_type": "text"
      },
      "source": [
        "**OBSERVATIONS:** From the above plot, it is clear that the model performs very well on this dataset. Even with tuning of n_estimators parameters, the training accuracy always stayed above 99% & the test data accuracy is always above 97%. This may or may not be the case of overfitting. "
      ]
    },
    {
      "cell_type": "markdown",
      "metadata": {
        "id": "smZK5RdnJrdy",
        "colab_type": "text"
      },
      "source": [
        "### **6.9. Custom Ensemble - SuperLearner:**\n",
        "&nbsp;&nbsp;&nbsp;&nbsp;&nbsp;&nbsp;&nbsp;&nbsp;&nbsp;&nbsp;&nbsp;&nbsp;&nbsp;&nbsp;To build a custom ensemble, a Python library called mlens is used. mlens is short of ML-Ensemble used for memory efficient parallelized ensemble learning. ML-Ensemble is a library for building Scikit-learn compatible ensemble estimator. Ensembles are built as a feed-forward network, with a set of layers stacked on each other. "
      ]
    },
    {
      "cell_type": "code",
      "metadata": {
        "id": "pBZDqk4bzcPO",
        "colab_type": "code",
        "outputId": "d67a61ea-2968-49e1-89e6-a103b2503bed",
        "colab": {
          "base_uri": "https://localhost:8080/",
          "height": 70
        }
      },
      "source": [
        "### You will need mlens package\n",
        "!pip install mlens"
      ],
      "execution_count": 0,
      "outputs": [
        {
          "output_type": "stream",
          "text": [
            "Requirement already satisfied: mlens in /usr/local/lib/python3.6/dist-packages (0.2.3)\n",
            "Requirement already satisfied: numpy>=1.11 in /usr/local/lib/python3.6/dist-packages (from mlens) (1.18.3)\n",
            "Requirement already satisfied: scipy>=0.17 in /usr/local/lib/python3.6/dist-packages (from mlens) (1.4.1)\n"
          ],
          "name": "stdout"
        }
      ]
    },
    {
      "cell_type": "code",
      "metadata": {
        "id": "qXvaoKnJJrdy",
        "colab_type": "code",
        "outputId": "2e4eb2fe-6c46-40fa-b262-16b75d74ee1f",
        "colab": {
          "base_uri": "https://localhost:8080/",
          "height": 35
        }
      },
      "source": [
        "from mlens.ensemble import SuperLearner\n",
        "from mlens.model_selection import Evaluator\n",
        "from mlens.metrics import make_scorer\n",
        "from mlens.metrics.metrics import rmse\n",
        "\n",
        "from sklearn.metrics import accuracy_score"
      ],
      "execution_count": 0,
      "outputs": [
        {
          "output_type": "stream",
          "text": [
            "[MLENS] backend: threading\n"
          ],
          "name": "stderr"
        }
      ]
    },
    {
      "cell_type": "code",
      "metadata": {
        "id": "4rO0S0HaJrd2",
        "colab_type": "code",
        "outputId": "f9562c00-9ad1-4a69-8152-61f34964807c",
        "colab": {
          "base_uri": "https://localhost:8080/",
          "height": 212
        }
      },
      "source": [
        "# --- Build ---\n",
        "# Passing a scoring function will create cv scores during fitting \n",
        "#the scorer should be a simple function accepting to vectors and returning a scalar\n",
        "ensemble = SuperLearner(scorer=rmse, random_state=555, verbose=2)\n",
        "\n",
        "# Build the first layer\n",
        "ensemble.add(mlp)\n",
        "ensemble.add(knn_grid)\n",
        "ensemble.add_meta(lr)"
      ],
      "execution_count": 0,
      "outputs": [
        {
          "output_type": "execute_result",
          "data": {
            "text/plain": [
              "SuperLearner(array_check=None, backend=None, folds=2,\n",
              "       layers=[Layer(backend='threading', dtype=<class 'numpy.float32'>, n_jobs=-1,\n",
              "   name='layer-1', propagate_features=None, raise_on_exception=True,\n",
              "   random_state=4782, shuffle=False,\n",
              "   stack=[Group(backend='threading', dtype=<class 'numpy.float32'>,\n",
              "   indexer=FoldIndex(X=None, folds=2, raise_on_ex...6844400>)],\n",
              "   n_jobs=-1, name='group-2', raise_on_exception=True, transformers=[])],\n",
              "   verbose=1)],\n",
              "       model_selection=False, n_jobs=None, raise_on_exception=True,\n",
              "       random_state=555, sample_size=20,\n",
              "       scorer=<function rmse at 0x7ff696844400>, shuffle=False, verbose=2)"
            ]
          },
          "metadata": {
            "tags": []
          },
          "execution_count": 80
        }
      ]
    },
    {
      "cell_type": "code",
      "metadata": {
        "id": "wAmnQsaeJrd5",
        "colab_type": "code",
        "outputId": "2bf506a8-5b94-404a-db6f-891b36e67314",
        "colab": {
          "base_uri": "https://localhost:8080/",
          "height": 319
        }
      },
      "source": [
        "# Fit ensemble\n",
        "ensemble.fit(X_train, y_train)"
      ],
      "execution_count": 0,
      "outputs": [
        {
          "output_type": "stream",
          "text": [
            "\n",
            "Fitting 3 layers\n",
            "Processing layer-1             done | 00:01:10\n",
            "Processing layer-2             done | 00:00:26\n",
            "Processing layer-3             done | 00:00:00\n",
            "Fit complete                        | 00:01:37\n"
          ],
          "name": "stdout"
        },
        {
          "output_type": "execute_result",
          "data": {
            "text/plain": [
              "SuperLearner(array_check=None, backend=None, folds=2,\n",
              "       layers=[Layer(backend='threading', dtype=<class 'numpy.float32'>, n_jobs=-1,\n",
              "   name='layer-1', propagate_features=None, raise_on_exception=True,\n",
              "   random_state=4782, shuffle=False,\n",
              "   stack=[Group(backend='threading', dtype=<class 'numpy.float32'>,\n",
              "   indexer=FoldIndex(X=None, folds=2, raise_on_ex...6844400>)],\n",
              "   n_jobs=-1, name='group-2', raise_on_exception=True, transformers=[])],\n",
              "   verbose=1)],\n",
              "       model_selection=False, n_jobs=None, raise_on_exception=True,\n",
              "       random_state=555, sample_size=20,\n",
              "       scorer=<function rmse at 0x7ff696844400>, shuffle=False, verbose=2)"
            ]
          },
          "metadata": {
            "tags": []
          },
          "execution_count": 81
        }
      ]
    },
    {
      "cell_type": "code",
      "metadata": {
        "id": "amIIPBijz0uQ",
        "colab_type": "code",
        "outputId": "6a0cf010-9884-401f-c25b-a2555abbea4d",
        "colab": {
          "base_uri": "https://localhost:8080/",
          "height": 230
        }
      },
      "source": [
        "#Predicting the target of samples from the model\n",
        "y_train_en = ensemble.predict(X_train)\n",
        "y_test_en = ensemble.predict(X_test)"
      ],
      "execution_count": 0,
      "outputs": [
        {
          "output_type": "stream",
          "text": [
            "\n",
            "Predicting 3 layers\n",
            "Processing layer-1             done | 00:00:00\n",
            "Processing layer-2             done | 00:00:00\n",
            "Processing layer-3             done | 00:00:00\n",
            "Predict complete                    | 00:00:00\n",
            "\n",
            "Predicting 3 layers\n",
            "Processing layer-1             done | 00:00:00\n",
            "Processing layer-2             done | 00:00:00\n",
            "Processing layer-3             done | 00:00:00\n",
            "Predict complete                    | 00:00:00\n"
          ],
          "name": "stdout"
        }
      ]
    },
    {
      "cell_type": "markdown",
      "metadata": {
        "colab_type": "text",
        "id": "5hYOzfmF0L_b"
      },
      "source": [
        "**Performance Evaluation:**"
      ]
    },
    {
      "cell_type": "code",
      "metadata": {
        "colab_type": "code",
        "id": "B1ckXk6j0L_e",
        "outputId": "36c711fb-70c0-4a85-bef8-d46106682a89",
        "colab": {
          "base_uri": "https://localhost:8080/",
          "height": 106
        }
      },
      "source": [
        "#computing the accuracy of the model performance\n",
        "acc_train_en = sklearn.metrics.r2_score(y_train,y_train_en)\n",
        "acc_test_en = sklearn.metrics.r2_score(y_test,y_test_en)\n",
        "\n",
        "#computing root mean squared error (RMSE)\n",
        "rmse_train_en = rmse(y_train,y_train_en)\n",
        "rmse_test_en = rmse(y_test,y_test_en)\n",
        "\n",
        "print(\"Custom Ensemble: Accuracy on training Data: {:.3f}\".format(acc_train_en))\n",
        "print(\"Custom Ensemble: Accuracy on test Data: {:.3f}\".format(acc_test_en))\n",
        "print('\\nCustom Ensemble: The RMSE of the training set is: ', rmse_train_en)\n",
        "print('Custom Ensemble: The RMSE of the testing set is: ', rmse_test_en)"
      ],
      "execution_count": 0,
      "outputs": [
        {
          "output_type": "stream",
          "text": [
            "Custom Ensemble: Accuracy on training Data: 0.912\n",
            "Custom Ensemble: Accuracy on test Data: 0.910\n",
            "\n",
            "Custom Ensemble: The RMSE of the training set is:  0.3570736780237149\n",
            "Custom Ensemble: The RMSE of the testing set is:  0.3708564367415838\n"
          ],
          "name": "stdout"
        }
      ]
    },
    {
      "cell_type": "markdown",
      "metadata": {
        "colab_type": "text",
        "id": "xCMRaA_6QVLM"
      },
      "source": [
        "**Storing Results:**"
      ]
    },
    {
      "cell_type": "code",
      "metadata": {
        "colab_type": "code",
        "id": "p1f7h_vaQVLT",
        "colab": {}
      },
      "source": [
        "#storing the results. The below mentioned order of parameter passing is important.\n",
        "#Caution: Execute only once to avoid duplications.\n",
        "storeResults('Ensemble_SuperLearner',acc_train_en, acc_test_en, rmse_train_en, rmse_test_en)"
      ],
      "execution_count": 0,
      "outputs": []
    },
    {
      "cell_type": "markdown",
      "metadata": {
        "id": "JJv_m94S7DNY",
        "colab_type": "text"
      },
      "source": [
        "**OBSERVATIONS:**  The above results show that the ensemble model performance is much better than linear regression model. In a way this model is an improved model of the models used in this."
      ]
    },
    {
      "cell_type": "markdown",
      "metadata": {
        "id": "LRWt_1lqru5D",
        "colab_type": "text"
      },
      "source": [
        "## **7. Comparision of Models:**\n",
        "\n",
        "&nbsp;&nbsp;&nbsp;&nbsp;&nbsp;&nbsp;&nbsp;&nbsp;&nbsp;&nbsp;&nbsp;&nbsp;&nbsp;&nbsp;To compare the models performance, a dataframe is created. The columns of this dataframe are the lists created to store the results of the model."
      ]
    },
    {
      "cell_type": "code",
      "metadata": {
        "id": "8ULP9fmGVZBQ",
        "colab_type": "code",
        "colab": {}
      },
      "source": [
        "#creating dataframe\n",
        "results = pd.DataFrame({ 'ML Model': ML_Model,    \n",
        "    'Train Accuracy': acc_train,\n",
        "    'Test Accuracy': acc_test,\n",
        "    'Train RMSE': rmse_train,\n",
        "    'Test RMSE': rmse_test})"
      ],
      "execution_count": 0,
      "outputs": []
    },
    {
      "cell_type": "code",
      "metadata": {
        "id": "5maRTZ_gqm1y",
        "colab_type": "code",
        "outputId": "0da0e6f8-ee3b-4df3-c894-d1375f079e49",
        "colab": {
          "base_uri": "https://localhost:8080/",
          "height": 311
        }
      },
      "source": [
        "results"
      ],
      "execution_count": 0,
      "outputs": [
        {
          "output_type": "execute_result",
          "data": {
            "text/html": [
              "<div>\n",
              "<style scoped>\n",
              "    .dataframe tbody tr th:only-of-type {\n",
              "        vertical-align: middle;\n",
              "    }\n",
              "\n",
              "    .dataframe tbody tr th {\n",
              "        vertical-align: top;\n",
              "    }\n",
              "\n",
              "    .dataframe thead th {\n",
              "        text-align: right;\n",
              "    }\n",
              "</style>\n",
              "<table border=\"1\" class=\"dataframe\">\n",
              "  <thead>\n",
              "    <tr style=\"text-align: right;\">\n",
              "      <th></th>\n",
              "      <th>ML Model</th>\n",
              "      <th>Train Accuracy</th>\n",
              "      <th>Test Accuracy</th>\n",
              "      <th>Train RMSE</th>\n",
              "      <th>Test RMSE</th>\n",
              "    </tr>\n",
              "  </thead>\n",
              "  <tbody>\n",
              "    <tr>\n",
              "      <th>0</th>\n",
              "      <td>k-Nearest Neighbors Regression</td>\n",
              "      <td>1.000</td>\n",
              "      <td>0.812</td>\n",
              "      <td>0.000</td>\n",
              "      <td>0.536</td>\n",
              "    </tr>\n",
              "    <tr>\n",
              "      <th>1</th>\n",
              "      <td>Linear Regression</td>\n",
              "      <td>0.288</td>\n",
              "      <td>0.296</td>\n",
              "      <td>1.013</td>\n",
              "      <td>1.037</td>\n",
              "    </tr>\n",
              "    <tr>\n",
              "      <th>2</th>\n",
              "      <td>Decision Tree</td>\n",
              "      <td>0.967</td>\n",
              "      <td>0.952</td>\n",
              "      <td>0.220</td>\n",
              "      <td>0.272</td>\n",
              "    </tr>\n",
              "    <tr>\n",
              "      <th>3</th>\n",
              "      <td>Random Forest</td>\n",
              "      <td>0.987</td>\n",
              "      <td>0.980</td>\n",
              "      <td>0.137</td>\n",
              "      <td>0.176</td>\n",
              "    </tr>\n",
              "    <tr>\n",
              "      <th>4</th>\n",
              "      <td>Gradient Boosted Regression</td>\n",
              "      <td>0.988</td>\n",
              "      <td>0.983</td>\n",
              "      <td>0.130</td>\n",
              "      <td>0.159</td>\n",
              "    </tr>\n",
              "    <tr>\n",
              "      <th>5</th>\n",
              "      <td>Multilayer Perceptron Regression</td>\n",
              "      <td>0.926</td>\n",
              "      <td>0.928</td>\n",
              "      <td>0.326</td>\n",
              "      <td>0.331</td>\n",
              "    </tr>\n",
              "    <tr>\n",
              "      <th>6</th>\n",
              "      <td>XGBoost Regression</td>\n",
              "      <td>0.993</td>\n",
              "      <td>0.988</td>\n",
              "      <td>0.100</td>\n",
              "      <td>0.134</td>\n",
              "    </tr>\n",
              "    <tr>\n",
              "      <th>7</th>\n",
              "      <td>Bagging Regression</td>\n",
              "      <td>0.994</td>\n",
              "      <td>0.982</td>\n",
              "      <td>0.096</td>\n",
              "      <td>0.166</td>\n",
              "    </tr>\n",
              "    <tr>\n",
              "      <th>8</th>\n",
              "      <td>Ensemble_SuperLearner</td>\n",
              "      <td>0.912</td>\n",
              "      <td>0.910</td>\n",
              "      <td>0.357</td>\n",
              "      <td>0.371</td>\n",
              "    </tr>\n",
              "  </tbody>\n",
              "</table>\n",
              "</div>"
            ],
            "text/plain": [
              "                           ML Model  Train Accuracy  ...  Train RMSE  Test RMSE\n",
              "0    k-Nearest Neighbors Regression           1.000  ...       0.000      0.536\n",
              "1                 Linear Regression           0.288  ...       1.013      1.037\n",
              "2                     Decision Tree           0.967  ...       0.220      0.272\n",
              "3                     Random Forest           0.987  ...       0.137      0.176\n",
              "4       Gradient Boosted Regression           0.988  ...       0.130      0.159\n",
              "5  Multilayer Perceptron Regression           0.926  ...       0.326      0.331\n",
              "6                XGBoost Regression           0.993  ...       0.100      0.134\n",
              "7                Bagging Regression           0.994  ...       0.096      0.166\n",
              "8             Ensemble_SuperLearner           0.912  ...       0.357      0.371\n",
              "\n",
              "[9 rows x 5 columns]"
            ]
          },
          "metadata": {
            "tags": []
          },
          "execution_count": 86
        }
      ]
    },
    {
      "cell_type": "code",
      "metadata": {
        "id": "LY5ZszLkXzbV",
        "colab_type": "code",
        "outputId": "e6069412-cfd1-4923-8c4a-8732d08fc272",
        "colab": {
          "base_uri": "https://localhost:8080/",
          "height": 311
        }
      },
      "source": [
        "#Sorting the datafram on accuracy\n",
        "results.sort_values(by=['Test Accuracy', 'Train Accuracy'], ascending=False)"
      ],
      "execution_count": 0,
      "outputs": [
        {
          "output_type": "execute_result",
          "data": {
            "text/html": [
              "<div>\n",
              "<style scoped>\n",
              "    .dataframe tbody tr th:only-of-type {\n",
              "        vertical-align: middle;\n",
              "    }\n",
              "\n",
              "    .dataframe tbody tr th {\n",
              "        vertical-align: top;\n",
              "    }\n",
              "\n",
              "    .dataframe thead th {\n",
              "        text-align: right;\n",
              "    }\n",
              "</style>\n",
              "<table border=\"1\" class=\"dataframe\">\n",
              "  <thead>\n",
              "    <tr style=\"text-align: right;\">\n",
              "      <th></th>\n",
              "      <th>ML Model</th>\n",
              "      <th>Train Accuracy</th>\n",
              "      <th>Test Accuracy</th>\n",
              "      <th>Train RMSE</th>\n",
              "      <th>Test RMSE</th>\n",
              "    </tr>\n",
              "  </thead>\n",
              "  <tbody>\n",
              "    <tr>\n",
              "      <th>6</th>\n",
              "      <td>XGBoost Regression</td>\n",
              "      <td>0.993</td>\n",
              "      <td>0.988</td>\n",
              "      <td>0.100</td>\n",
              "      <td>0.134</td>\n",
              "    </tr>\n",
              "    <tr>\n",
              "      <th>4</th>\n",
              "      <td>Gradient Boosted Regression</td>\n",
              "      <td>0.988</td>\n",
              "      <td>0.983</td>\n",
              "      <td>0.130</td>\n",
              "      <td>0.159</td>\n",
              "    </tr>\n",
              "    <tr>\n",
              "      <th>7</th>\n",
              "      <td>Bagging Regression</td>\n",
              "      <td>0.994</td>\n",
              "      <td>0.982</td>\n",
              "      <td>0.096</td>\n",
              "      <td>0.166</td>\n",
              "    </tr>\n",
              "    <tr>\n",
              "      <th>3</th>\n",
              "      <td>Random Forest</td>\n",
              "      <td>0.987</td>\n",
              "      <td>0.980</td>\n",
              "      <td>0.137</td>\n",
              "      <td>0.176</td>\n",
              "    </tr>\n",
              "    <tr>\n",
              "      <th>2</th>\n",
              "      <td>Decision Tree</td>\n",
              "      <td>0.967</td>\n",
              "      <td>0.952</td>\n",
              "      <td>0.220</td>\n",
              "      <td>0.272</td>\n",
              "    </tr>\n",
              "    <tr>\n",
              "      <th>5</th>\n",
              "      <td>Multilayer Perceptron Regression</td>\n",
              "      <td>0.926</td>\n",
              "      <td>0.928</td>\n",
              "      <td>0.326</td>\n",
              "      <td>0.331</td>\n",
              "    </tr>\n",
              "    <tr>\n",
              "      <th>8</th>\n",
              "      <td>Ensemble_SuperLearner</td>\n",
              "      <td>0.912</td>\n",
              "      <td>0.910</td>\n",
              "      <td>0.357</td>\n",
              "      <td>0.371</td>\n",
              "    </tr>\n",
              "    <tr>\n",
              "      <th>0</th>\n",
              "      <td>k-Nearest Neighbors Regression</td>\n",
              "      <td>1.000</td>\n",
              "      <td>0.812</td>\n",
              "      <td>0.000</td>\n",
              "      <td>0.536</td>\n",
              "    </tr>\n",
              "    <tr>\n",
              "      <th>1</th>\n",
              "      <td>Linear Regression</td>\n",
              "      <td>0.288</td>\n",
              "      <td>0.296</td>\n",
              "      <td>1.013</td>\n",
              "      <td>1.037</td>\n",
              "    </tr>\n",
              "  </tbody>\n",
              "</table>\n",
              "</div>"
            ],
            "text/plain": [
              "                           ML Model  Train Accuracy  ...  Train RMSE  Test RMSE\n",
              "6                XGBoost Regression           0.993  ...       0.100      0.134\n",
              "4       Gradient Boosted Regression           0.988  ...       0.130      0.159\n",
              "7                Bagging Regression           0.994  ...       0.096      0.166\n",
              "3                     Random Forest           0.987  ...       0.137      0.176\n",
              "2                     Decision Tree           0.967  ...       0.220      0.272\n",
              "5  Multilayer Perceptron Regression           0.926  ...       0.326      0.331\n",
              "8             Ensemble_SuperLearner           0.912  ...       0.357      0.371\n",
              "0    k-Nearest Neighbors Regression           1.000  ...       0.000      0.536\n",
              "1                 Linear Regression           0.288  ...       1.013      1.037\n",
              "\n",
              "[9 rows x 5 columns]"
            ]
          },
          "metadata": {
            "tags": []
          },
          "execution_count": 87
        }
      ]
    },
    {
      "cell_type": "markdown",
      "metadata": {
        "id": "YKiJahz0Ur1J",
        "colab_type": "text"
      },
      "source": [
        "**OBSERVATIONS:** Among all the trained modesl, XGBoost performance is better. It is understandable because this model is very good in execution Speed & model performance."
      ]
    },
    {
      "cell_type": "markdown",
      "metadata": {
        "id": "ueFbYumEUSgW",
        "colab_type": "text"
      },
      "source": [
        "## **8. Statistical Tests:**\n",
        "\n",
        "Statistical tests are used in hypothesis testing. They can be used to:\n",
        "* determine whether a predictor variable has a statistically significant relationship with an outcome variable.\n",
        "* estimate the difference between two or more groups\n"
      ]
    },
    {
      "cell_type": "code",
      "metadata": {
        "id": "5ykkcV1mlVA4",
        "colab_type": "code",
        "colab": {}
      },
      "source": [
        "#improting required libraries\n",
        "from scipy import stats"
      ],
      "execution_count": 0,
      "outputs": []
    },
    {
      "cell_type": "markdown",
      "metadata": {
        "id": "suzEOXz9fvsC",
        "colab_type": "text"
      },
      "source": [
        "### **8.1. Test 1: To check the difference in suicide rates between male and female**\n",
        "Using independent sample t-test to check the difference in suicide rates between male and female. The hypothesis statements for this test are: \n",
        "\n",
        "**H0:** There is no difference in the suicide rates among male and female (Null).<br>\n",
        "**H1:** There is difference in the suicide rates among male and female (Alternate).\n"
      ]
    },
    {
      "cell_type": "code",
      "metadata": {
        "id": "hp7YwoGLdvjL",
        "colab_type": "code",
        "outputId": "e9b5aae9-77ba-466b-f6e4-1a5ed7d73eb6",
        "colab": {
          "base_uri": "https://localhost:8080/",
          "height": 230
        }
      },
      "source": [
        "#collecting male suicide rate data\n",
        "male = stat_data['suicide_rate'][stat_data['gender'] == 1]\n",
        "male"
      ],
      "execution_count": 0,
      "outputs": [
        {
          "output_type": "execute_result",
          "data": {
            "text/plain": [
              "0         6.71\n",
              "1         5.19\n",
              "3         4.59\n",
              "4         3.28\n",
              "8         0.73\n",
              "         ...  \n",
              "27809    11.61\n",
              "27811    11.33\n",
              "27812    11.10\n",
              "27813     7.56\n",
              "27817     2.17\n",
              "Name: suicide_rate, Length: 13910, dtype: float64"
            ]
          },
          "metadata": {
            "tags": []
          },
          "execution_count": 89
        }
      ]
    },
    {
      "cell_type": "code",
      "metadata": {
        "id": "AXVRAePOef_Y",
        "colab_type": "code",
        "outputId": "84f4f5e8-0a30-4698-e244-a6802b594294",
        "colab": {
          "base_uri": "https://localhost:8080/",
          "height": 230
        }
      },
      "source": [
        "#collecting female suicide rate data\n",
        "female = stat_data['suicide_rate'][stat_data['gender'] == 0]\n",
        "female"
      ],
      "execution_count": 0,
      "outputs": [
        {
          "output_type": "execute_result",
          "data": {
            "text/plain": [
              "2        4.83\n",
              "5        2.81\n",
              "6        2.15\n",
              "7        1.56\n",
              "9        0.00\n",
              "         ... \n",
              "27814    5.92\n",
              "27815    2.96\n",
              "27816    2.58\n",
              "27818    1.67\n",
              "27819    1.46\n",
              "Name: suicide_rate, Length: 13910, dtype: float64"
            ]
          },
          "metadata": {
            "tags": []
          },
          "execution_count": 90
        }
      ]
    },
    {
      "cell_type": "code",
      "metadata": {
        "id": "RbvJ1LdWfWZ8",
        "colab_type": "code",
        "outputId": "a0f21feb-db49-4e7a-c9c1-edc35be201cb",
        "colab": {
          "base_uri": "https://localhost:8080/",
          "height": 35
        }
      },
      "source": [
        "#calculating p value\n",
        "ttest,pval = stats.ttest_rel(male, female)\n",
        "\n",
        "if pval<0.05:\n",
        "    print(\"Reject null hypothesis\")\n",
        "else:\n",
        "    print(\"Accept null hypothesis\")"
      ],
      "execution_count": 0,
      "outputs": [
        {
          "output_type": "stream",
          "text": [
            "Reject null hypothesis\n"
          ],
          "name": "stdout"
        }
      ]
    },
    {
      "cell_type": "markdown",
      "metadata": {
        "id": "xdjfBLjYTPU2",
        "colab_type": "text"
      },
      "source": [
        "**Test Conclusion:** By performing T-test, the result obtained is to reject the null hypothesis. This basically means that there is different in suicide rates of male & female."
      ]
    },
    {
      "cell_type": "markdown",
      "metadata": {
        "id": "K6XVke9WgQQ7",
        "colab_type": "text"
      },
      "source": [
        "### **8.2. Test 2: To find out the dependence of suicide rate on the age.**\n",
        "Finding out whether there is a dependence of suicide rate on the age using the Chi- Square test. The hypothesis statements for this test are: \n",
        "\n",
        "**H0:** Suicide rate and age are independent (Null).<br>\n",
        "**H1:** Suicide rate and age are dependent (Alternate). "
      ]
    },
    {
      "cell_type": "code",
      "metadata": {
        "id": "0xO2wbYn9a0L",
        "colab_type": "code",
        "colab": {}
      },
      "source": [
        "#Creating Contingency Table\n",
        "contingency_table = pd.crosstab(stat_data.suicide_rate, stat_data.age_group)"
      ],
      "execution_count": 0,
      "outputs": []
    },
    {
      "cell_type": "code",
      "metadata": {
        "id": "dVqqHqtG_Krs",
        "colab_type": "code",
        "colab": {}
      },
      "source": [
        "#Significance Level 5%\n",
        "alpha=0.05"
      ],
      "execution_count": 0,
      "outputs": []
    },
    {
      "cell_type": "code",
      "metadata": {
        "id": "kymhWVst9rIU",
        "colab_type": "code",
        "colab": {}
      },
      "source": [
        "chistat, p, dof, expected = stats.chi2_contingency(contingency_table )"
      ],
      "execution_count": 0,
      "outputs": []
    },
    {
      "cell_type": "code",
      "metadata": {
        "id": "4Q5yJrJB_vUk",
        "colab_type": "code",
        "outputId": "959105ca-aff9-4614-fc44-83dbfce3acf2",
        "colab": {
          "base_uri": "https://localhost:8080/",
          "height": 35
        }
      },
      "source": [
        "#critical_value\n",
        "critical_value=stats.chi2.ppf(q=1-alpha,df=dof)\n",
        "print('critical_value:',critical_value)"
      ],
      "execution_count": 0,
      "outputs": [
        {
          "output_type": "stream",
          "text": [
            "critical_value: 26864.700169422224\n"
          ],
          "name": "stdout"
        }
      ]
    },
    {
      "cell_type": "code",
      "metadata": {
        "id": "JyXUEbDe_ghn",
        "colab_type": "code",
        "outputId": "7812b41e-8fe1-40de-803f-1e3cff9c5ecf",
        "colab": {
          "base_uri": "https://localhost:8080/",
          "height": 106
        }
      },
      "source": [
        "print('Significance level: ',alpha)\n",
        "print('Degree of Freedom: ',dof)\n",
        "print('chi-square statistic:',chistat)\n",
        "print('critical_value:',critical_value)\n",
        "print('p-value:',p) \n",
        "#Here, pvalue = 0.0 and a low pvalue suggests that your sample provides enough evidence that you can reject  H0  for the entire population."
      ],
      "execution_count": 0,
      "outputs": [
        {
          "output_type": "stream",
          "text": [
            "Significance level:  0.05\n",
            "Degree of Freedom:  26485\n",
            "chi-square statistic: 39571.48433519147\n",
            "critical_value: 26864.700169422224\n",
            "p-value: 0.0\n"
          ],
          "name": "stdout"
        }
      ]
    },
    {
      "cell_type": "code",
      "metadata": {
        "id": "YF-fkzeTAKCU",
        "colab_type": "code",
        "outputId": "98f20ec3-93fa-4737-fb03-758ba230f3ac",
        "colab": {
          "base_uri": "https://localhost:8080/",
          "height": 52
        }
      },
      "source": [
        " #compare chi_square_statistic with critical_value and p-value which is the \n",
        " #probability of getting chi-square>0.09 (chi_square_statistic)\n",
        "if chistat>=critical_value:\n",
        "    print(\"Reject H0,There is a dependency between Age group & Suicide rate.\")\n",
        "else:\n",
        "    print(\"Retain H0,There is no relationship between Age group & Suicide rate.\")\n",
        "    \n",
        "if p<=alpha:\n",
        "    print(\"Reject H0,There is a dependency between Age group & Suicide rate.\")\n",
        "else:\n",
        "    print(\"Retain H0,There is no relationship between Age group & Suicide rate.\")"
      ],
      "execution_count": 0,
      "outputs": [
        {
          "output_type": "stream",
          "text": [
            "Reject H0,There is a dependency between Age group & Suicide rate.\n",
            "Reject H0,There is a dependency between Age group & Suicide rate.\n"
          ],
          "name": "stdout"
        }
      ]
    },
    {
      "cell_type": "markdown",
      "metadata": {
        "id": "_hYKiQ2sToc7",
        "colab_type": "text"
      },
      "source": [
        "**Test Conclusion:** By performing Chi- Square test, the result obtained is to reject the null hypothesis. This basically means that there is dependency between Age group & Suicide rate."
      ]
    },
    {
      "cell_type": "markdown",
      "metadata": {
        "id": "mzg0YuqTLJoc",
        "colab_type": "text"
      },
      "source": [
        "## **9. Conclusion:**\n",
        "\n",
        "&nbsp;&nbsp;&nbsp;&nbsp;&nbsp;&nbsp;&nbsp;&nbsp;&nbsp;&nbsp;&nbsp;&nbsp;&nbsp;&nbsp;The final take away form this project is the working of different machine learning models on a dataset and understanding their parameters. Creating this notebook helped me to learn a lot about the parameters of the models, how to tuned them and how they affect the model performance. \n",
        "The final conclusion on the suicide dataset are that the irrespective of age group and generation, male population are more prone to commit suicide than female. "
      ]
    }
  ]
}